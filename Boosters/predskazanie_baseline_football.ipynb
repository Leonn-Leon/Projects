{
 "cells": [
  {
   "cell_type": "code",
   "execution_count": 1,
   "metadata": {},
   "outputs": [],
   "source": [
    "import pandas as pd\n",
    "import numpy as np\n",
    "from sklearn.ensemble import RandomForestClassifier\n",
    "from sklearn.metrics import log_loss, roc_auc_score\n",
    "from sklearn.model_selection import cross_val_predict"
   ]
  },
  {
   "cell_type": "code",
   "execution_count": 2,
   "metadata": {},
   "outputs": [],
   "source": [
    "train = pd.read_csv(\"./input/train.csv\")\n",
    "test = pd.read_csv(\"./input/test.csv\")"
   ]
  },
  {
   "cell_type": "code",
   "execution_count": 3,
   "metadata": {},
   "outputs": [],
   "source": [
    "data = pd.concat([train, test], axis=0)"
   ]
  },
  {
   "cell_type": "code",
   "execution_count": 4,
   "metadata": {},
   "outputs": [
    {
     "data": {
      "text/plain": [
       "Index([u'champ', u'target', u'team_away', u'team_away_red_cards',\n",
       "       u'team_away_reserved', u'team_away_score', u'team_away_squad',\n",
       "       u'team_away_substitution', u'team_away_yellow_cards', u'team_home',\n",
       "       u'team_home_red_cards', u'team_home_reserved', u'team_home_score',\n",
       "       u'team_home_squad', u'team_home_substitution',\n",
       "       u'team_home_yellow_cards', u'time', u'tour'],\n",
       "      dtype='object')"
      ]
     },
     "execution_count": 4,
     "metadata": {},
     "output_type": "execute_result"
    }
   ],
   "source": [
    "data.columns"
   ]
  },
  {
   "cell_type": "code",
   "execution_count": 5,
   "metadata": {},
   "outputs": [
    {
     "data": {
      "text/plain": [
       "(16456, 7211, (23667, 18))"
      ]
     },
     "execution_count": 5,
     "metadata": {},
     "output_type": "execute_result"
    }
   ],
   "source": [
    "len(train), len(test), data.shape"
   ]
  },
  {
   "cell_type": "markdown",
   "metadata": {},
   "source": [
    "Попробуем предсказать среднюю вероятность класса, после чего посмотрим на качество на обучающей выборке:"
   ]
  },
  {
   "cell_type": "code",
   "execution_count": 6,
   "metadata": {
    "scrolled": true
   },
   "outputs": [
    {
     "name": "stdout",
     "output_type": "stream",
     "text": [
      "1.0658489559682767\n"
     ]
    }
   ],
   "source": [
    "preds = [list(train.groupby(\"target\").size()/len(train))]*len(train)\n",
    "print(log_loss(train.target, preds))"
   ]
  },
  {
   "cell_type": "markdown",
   "metadata": {},
   "source": [
    "Построим несколько признаков:\n",
    "* средний прирост счета каждой команды\n",
    "\n",
    "После чего обучим RandomForest"
   ]
  },
  {
   "cell_type": "code",
   "execution_count": 7,
   "metadata": {},
   "outputs": [],
   "source": [
    "data[\"team_home_mean_target\"] = data.team_home.map(train.groupby(\"team_home\").target.mean())\n",
    "data[\"team_away_mean_target\"] = data.team_away.map(train.groupby(\"team_away\").target.mean())"
   ]
  },
  {
   "cell_type": "code",
   "execution_count": 8,
   "metadata": {},
   "outputs": [],
   "source": [
    "cols = [\"team_home_mean_target\",\n",
    "        \"team_away_mean_target\"]"
   ]
  },
  {
   "cell_type": "code",
   "execution_count": 9,
   "metadata": {},
   "outputs": [],
   "source": [
    "X_train = data[~data.target.isnull()]\n",
    "X_test = data[data.target.isnull()]\n",
    "y_train = data[~data.target.isnull()].target\n",
    "y_test = data[data.target.isnull()].target"
   ]
  },
  {
   "cell_type": "code",
   "execution_count": 10,
   "metadata": {},
   "outputs": [
    {
     "name": "stdout",
     "output_type": "stream",
     "text": [
      "Score is 1.01104452053\n"
     ]
    }
   ],
   "source": [
    "model = RandomForestClassifier(n_estimators=10, max_depth=3)\n",
    "preds = cross_val_predict(model, X_train[cols], y_train, n_jobs=-1, method=\"predict_proba\")\n",
    "print(\"Score is {}\".format(log_loss(y_train, preds)))"
   ]
  },
  {
   "cell_type": "code",
   "execution_count": 11,
   "metadata": {},
   "outputs": [
    {
     "data": {
      "text/plain": [
       "array([0.34006513, 0.65993487])"
      ]
     },
     "execution_count": 11,
     "metadata": {},
     "output_type": "execute_result"
    }
   ],
   "source": [
    "model.fit(X_train[cols], y_train)\n",
    "model.feature_importances_"
   ]
  },
  {
   "cell_type": "code",
   "execution_count": 12,
   "metadata": {},
   "outputs": [],
   "source": [
    "submit = pd.DataFrame(model.predict_proba(X_test[cols].fillna(0)), columns=[\"draw\", \"win\", \"lose\"])\n",
    "submit.to_csv(\"./input/sample_submission.csv\")"
   ]
  },
  {
   "cell_type": "code",
   "execution_count": 13,
   "metadata": {},
   "outputs": [
    {
     "data": {
      "text/plain": [
       "Index([u'champ', u'target', u'team_away', u'team_away_red_cards',\n",
       "       u'team_away_reserved', u'team_away_score', u'team_away_squad',\n",
       "       u'team_away_substitution', u'team_away_yellow_cards', u'team_home',\n",
       "       u'team_home_red_cards', u'team_home_reserved', u'team_home_score',\n",
       "       u'team_home_squad', u'team_home_substitution',\n",
       "       u'team_home_yellow_cards', u'time', u'tour', u'team_home_mean_target',\n",
       "       u'team_away_mean_target'],\n",
       "      dtype='object')"
      ]
     },
     "execution_count": 13,
     "metadata": {},
     "output_type": "execute_result"
    }
   ],
   "source": [
    "data.columns"
   ]
  }
 ],
 "metadata": {
  "kernelspec": {
   "display_name": "Python 3",
   "language": "python",
   "name": "python3"
  },
  "language_info": {
   "codemirror_mode": {
    "name": "ipython",
    "version": 3
   },
   "file_extension": ".py",
   "mimetype": "text/x-python",
   "name": "python",
   "nbconvert_exporter": "python",
   "pygments_lexer": "ipython3",
   "version": "3.7.3"
  }
 },
 "nbformat": 4,
 "nbformat_minor": 2
}
