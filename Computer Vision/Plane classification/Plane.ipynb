{
  "nbformat": 4,
  "nbformat_minor": 0,
  "metadata": {
    "colab": {
      "name": "Plane.ipynb",
      "provenance": [],
      "collapsed_sections": []
    },
    "kernelspec": {
      "display_name": "Python 3",
      "name": "python3"
    },
    "language_info": {
      "name": "python"
    },
    "gpuClass": "standard"
  },
  "cells": [
    {
      "cell_type": "markdown",
      "metadata": {
        "id": "Zp1eJQnwA6hx"
      },
      "source": [
        "### Import libraries"
      ]
    },
    {
      "cell_type": "code",
      "metadata": {
        "id": "ocLiuyzK_nJu"
      },
      "source": [
        "from PIL import Image\n",
        "import pandas as pd\n",
        "import numpy as np\n",
        "from matplotlib import pyplot as plt\n",
        "from tensorflow.keras import Model\n",
        "from tensorflow.keras.models import Sequential\n",
        "from tensorflow.keras.layers import Input, Conv2D, MaxPool2D, GlobalAveragePooling2D, Flatten, Dense, BatchNormalization, Dropout\n",
        "from tensorflow.keras.preprocessing.image import ImageDataGenerator, load_img\n",
        "from tensorflow.keras.preprocessing import image_dataset_from_directory\n",
        "from sklearn.model_selection import train_test_split\n",
        "from sklearn.preprocessing import StandardScaler\n",
        "from sklearn.metrics import roc_auc_score\n",
        "from tensorflow.keras.losses import BinaryCrossentropy\n",
        "from tensorflow.keras.metrics import Precision, Recall, AUC\n",
        "from tensorflow.keras.optimizers import Adam\n",
        "from tensorflow import concat\n",
        "import os\n",
        "\n",
        "%matplotlib inline"
      ],
      "execution_count": 1,
      "outputs": []
    },
    {
      "cell_type": "markdown",
      "metadata": {
        "id": "XKG3gradZ-uF"
      },
      "source": [
        "### Import train data"
      ]
    },
    {
      "cell_type": "code",
      "metadata": {
        "colab": {
          "base_uri": "https://localhost:8080/"
        },
        "id": "F98BiegU5Fo1",
        "outputId": "5075fb0d-acb7-4554-b0e5-29fd713d9539"
      },
      "source": [
        "%%time\n",
        "# Копирование данных из гугл диска чтобы выгрузка картирнок была быстрее\n",
        "!cp /content/drive/MyDrive/Cup/avia-train.zip /content/"
      ],
      "execution_count": 2,
      "outputs": [
        {
          "output_type": "stream",
          "name": "stdout",
          "text": [
            "CPU times: user 15.1 ms, sys: 14.9 ms, total: 30 ms\n",
            "Wall time: 1.14 s\n"
          ]
        }
      ]
    },
    {
      "cell_type": "code",
      "metadata": {
        "id": "DuzTVs-m0TeI"
      },
      "source": [
        "#@title  \n",
        "%%time\n",
        "if os.path.exists('avia-train'):\n",
        "    for i in os.listdir('/content/avia-train'):\n",
        "        os.remove('/content/avia-train/' + i)\n",
        "!unzip /content/avia-train.zip -d /content/"
      ],
      "execution_count": null,
      "outputs": []
    },
    {
      "cell_type": "code",
      "metadata": {
        "colab": {
          "base_uri": "https://localhost:8080/",
          "height": 206
        },
        "id": "4O30YSceObu1",
        "outputId": "a3b56f5a-0b65-4700-9068-601756342857"
      },
      "source": [
        "train = pd.read_csv('/content/drive/MyDrive/Cup/train.csv')\n",
        "train.head()"
      ],
      "execution_count": 4,
      "outputs": [
        {
          "output_type": "execute_result",
          "data": {
            "text/plain": [
              "   sign                              filename\n",
              "0     0  200d8766-4240-44d1-a2da-65dc4ee7973a\n",
              "1     0  87174854-b7b6-4cb2-8183-4ca2bbd26b9d\n",
              "2     0  c089638e-b683-436a-a3a3-3e5be972c4f6\n",
              "3     1  8790e76c-f485-49a6-abaf-3147436ca085\n",
              "4     0  c06b01db-8934-4c72-b568-508a32c4b170"
            ],
            "text/html": [
              "\n",
              "  <div id=\"df-f6b623da-b0e4-40f9-88fc-e63b6d77224d\">\n",
              "    <div class=\"colab-df-container\">\n",
              "      <div>\n",
              "<style scoped>\n",
              "    .dataframe tbody tr th:only-of-type {\n",
              "        vertical-align: middle;\n",
              "    }\n",
              "\n",
              "    .dataframe tbody tr th {\n",
              "        vertical-align: top;\n",
              "    }\n",
              "\n",
              "    .dataframe thead th {\n",
              "        text-align: right;\n",
              "    }\n",
              "</style>\n",
              "<table border=\"1\" class=\"dataframe\">\n",
              "  <thead>\n",
              "    <tr style=\"text-align: right;\">\n",
              "      <th></th>\n",
              "      <th>sign</th>\n",
              "      <th>filename</th>\n",
              "    </tr>\n",
              "  </thead>\n",
              "  <tbody>\n",
              "    <tr>\n",
              "      <th>0</th>\n",
              "      <td>0</td>\n",
              "      <td>200d8766-4240-44d1-a2da-65dc4ee7973a</td>\n",
              "    </tr>\n",
              "    <tr>\n",
              "      <th>1</th>\n",
              "      <td>0</td>\n",
              "      <td>87174854-b7b6-4cb2-8183-4ca2bbd26b9d</td>\n",
              "    </tr>\n",
              "    <tr>\n",
              "      <th>2</th>\n",
              "      <td>0</td>\n",
              "      <td>c089638e-b683-436a-a3a3-3e5be972c4f6</td>\n",
              "    </tr>\n",
              "    <tr>\n",
              "      <th>3</th>\n",
              "      <td>1</td>\n",
              "      <td>8790e76c-f485-49a6-abaf-3147436ca085</td>\n",
              "    </tr>\n",
              "    <tr>\n",
              "      <th>4</th>\n",
              "      <td>0</td>\n",
              "      <td>c06b01db-8934-4c72-b568-508a32c4b170</td>\n",
              "    </tr>\n",
              "  </tbody>\n",
              "</table>\n",
              "</div>\n",
              "      <button class=\"colab-df-convert\" onclick=\"convertToInteractive('df-f6b623da-b0e4-40f9-88fc-e63b6d77224d')\"\n",
              "              title=\"Convert this dataframe to an interactive table.\"\n",
              "              style=\"display:none;\">\n",
              "        \n",
              "  <svg xmlns=\"http://www.w3.org/2000/svg\" height=\"24px\"viewBox=\"0 0 24 24\"\n",
              "       width=\"24px\">\n",
              "    <path d=\"M0 0h24v24H0V0z\" fill=\"none\"/>\n",
              "    <path d=\"M18.56 5.44l.94 2.06.94-2.06 2.06-.94-2.06-.94-.94-2.06-.94 2.06-2.06.94zm-11 1L8.5 8.5l.94-2.06 2.06-.94-2.06-.94L8.5 2.5l-.94 2.06-2.06.94zm10 10l.94 2.06.94-2.06 2.06-.94-2.06-.94-.94-2.06-.94 2.06-2.06.94z\"/><path d=\"M17.41 7.96l-1.37-1.37c-.4-.4-.92-.59-1.43-.59-.52 0-1.04.2-1.43.59L10.3 9.45l-7.72 7.72c-.78.78-.78 2.05 0 2.83L4 21.41c.39.39.9.59 1.41.59.51 0 1.02-.2 1.41-.59l7.78-7.78 2.81-2.81c.8-.78.8-2.07 0-2.86zM5.41 20L4 18.59l7.72-7.72 1.47 1.35L5.41 20z\"/>\n",
              "  </svg>\n",
              "      </button>\n",
              "      \n",
              "  <style>\n",
              "    .colab-df-container {\n",
              "      display:flex;\n",
              "      flex-wrap:wrap;\n",
              "      gap: 12px;\n",
              "    }\n",
              "\n",
              "    .colab-df-convert {\n",
              "      background-color: #E8F0FE;\n",
              "      border: none;\n",
              "      border-radius: 50%;\n",
              "      cursor: pointer;\n",
              "      display: none;\n",
              "      fill: #1967D2;\n",
              "      height: 32px;\n",
              "      padding: 0 0 0 0;\n",
              "      width: 32px;\n",
              "    }\n",
              "\n",
              "    .colab-df-convert:hover {\n",
              "      background-color: #E2EBFA;\n",
              "      box-shadow: 0px 1px 2px rgba(60, 64, 67, 0.3), 0px 1px 3px 1px rgba(60, 64, 67, 0.15);\n",
              "      fill: #174EA6;\n",
              "    }\n",
              "\n",
              "    [theme=dark] .colab-df-convert {\n",
              "      background-color: #3B4455;\n",
              "      fill: #D2E3FC;\n",
              "    }\n",
              "\n",
              "    [theme=dark] .colab-df-convert:hover {\n",
              "      background-color: #434B5C;\n",
              "      box-shadow: 0px 1px 3px 1px rgba(0, 0, 0, 0.15);\n",
              "      filter: drop-shadow(0px 1px 2px rgba(0, 0, 0, 0.3));\n",
              "      fill: #FFFFFF;\n",
              "    }\n",
              "  </style>\n",
              "\n",
              "      <script>\n",
              "        const buttonEl =\n",
              "          document.querySelector('#df-f6b623da-b0e4-40f9-88fc-e63b6d77224d button.colab-df-convert');\n",
              "        buttonEl.style.display =\n",
              "          google.colab.kernel.accessAllowed ? 'block' : 'none';\n",
              "\n",
              "        async function convertToInteractive(key) {\n",
              "          const element = document.querySelector('#df-f6b623da-b0e4-40f9-88fc-e63b6d77224d');\n",
              "          const dataTable =\n",
              "            await google.colab.kernel.invokeFunction('convertToInteractive',\n",
              "                                                     [key], {});\n",
              "          if (!dataTable) return;\n",
              "\n",
              "          const docLinkHtml = 'Like what you see? Visit the ' +\n",
              "            '<a target=\"_blank\" href=https://colab.research.google.com/notebooks/data_table.ipynb>data table notebook</a>'\n",
              "            + ' to learn more about interactive tables.';\n",
              "          element.innerHTML = '';\n",
              "          dataTable['output_type'] = 'display_data';\n",
              "          await google.colab.output.renderOutput(dataTable, element);\n",
              "          const docLink = document.createElement('div');\n",
              "          docLink.innerHTML = docLinkHtml;\n",
              "          element.appendChild(docLink);\n",
              "        }\n",
              "      </script>\n",
              "    </div>\n",
              "  </div>\n",
              "  "
            ]
          },
          "metadata": {},
          "execution_count": 4
        }
      ]
    },
    {
      "cell_type": "code",
      "metadata": {
        "colab": {
          "base_uri": "https://localhost:8080/"
        },
        "id": "X3c739im2_7Y",
        "outputId": "fe5ef5ac-d38c-49da-cb33-e2c16ab60281"
      },
      "source": [
        "path = '/content/avia-train/'\n",
        "files = path + np.array(train.filename) + '.png'\n",
        "y = np.eye(2)[train.sign]\n",
        "y.shape"
      ],
      "execution_count": 5,
      "outputs": [
        {
          "output_type": "execute_result",
          "data": {
            "text/plain": [
              "(31080, 2)"
            ]
          },
          "metadata": {},
          "execution_count": 5
        }
      ]
    },
    {
      "cell_type": "code",
      "metadata": {
        "colab": {
          "base_uri": "https://localhost:8080/"
        },
        "id": "20UC4qEoNsHX",
        "outputId": "91405956-5394-4403-ad7b-30a3d2e9e7b1"
      },
      "source": [
        "%%time\n",
        "X = np.zeros((files.shape[0], 20, 20, 1))\n",
        "for ind, i in enumerate(files):\n",
        "    im = np.array(Image.open(i, mode='r').convert('L'))\n",
        "    X[ind, :, :, 0] = im\n",
        "    # X[ind] = StandardScaler().fit_transform(im.flatten()[:, None]).reshape(20, 20, 1)\n",
        "    if ind % 3000 == 0:\n",
        "        print(ind)"
      ],
      "execution_count": 6,
      "outputs": [
        {
          "output_type": "stream",
          "name": "stdout",
          "text": [
            "0\n",
            "3000\n",
            "6000\n",
            "9000\n",
            "12000\n",
            "15000\n",
            "18000\n",
            "21000\n",
            "24000\n",
            "27000\n",
            "30000\n",
            "CPU times: user 4.93 s, sys: 646 ms, total: 5.57 s\n",
            "Wall time: 6.26 s\n"
          ]
        }
      ]
    },
    {
      "cell_type": "code",
      "metadata": {
        "id": "ZbmiHIiHLG5M"
      },
      "source": [
        "class color:\n",
        "   PURPLE = '\\033[95m'\n",
        "   CYAN = '\\033[96m'\n",
        "   DARKCYAN = '\\033[36m'\n",
        "   BLUE = '\\033[94m'\n",
        "   GREEN = '\\033[92m'\n",
        "   YELLOW = '\\033[93m'\n",
        "   RED = '\\033[91m'\n",
        "   BOLD = '\\033[1m'\n",
        "   UNDERLINE = '\\033[4m'\n",
        "   END = '\\033[0m'"
      ],
      "execution_count": 7,
      "outputs": []
    },
    {
      "cell_type": "code",
      "metadata": {
        "colab": {
          "base_uri": "https://localhost:8080/",
          "height": 320
        },
        "id": "TErgOujrsaZl",
        "outputId": "ec369c23-7c1f-4dbc-f6d2-00707c12f870"
      },
      "source": [
        "print((color.BOLD + 'Images with Planes' + color.END).center(110))\n",
        "fig, axes = plt.subplots(nrows = 2, ncols = 6, figsize = (15, 5))\n",
        "indexs = np.where( y[:, 1] == 1 )[0]\n",
        "k = 0\n",
        "for row in axes:\n",
        "    for item in row:\n",
        "        item.set(xticks = [], yticks = [])\n",
        "        item.imshow(X[indexs[k], ..., 0], cmap = 'gray')\n",
        "        k += 1"
      ],
      "execution_count": 8,
      "outputs": [
        {
          "output_type": "stream",
          "name": "stdout",
          "text": [
            "                                          \u001b[1mImages with Planes\u001b[0m                                          \n"
          ]
        },
        {
          "output_type": "display_data",
          "data": {
            "text/plain": [
              "<Figure size 1080x360 with 12 Axes>"
            ],
            "image/png": "[encoded data removed]"
          },
          "metadata": {}
        }
      ]
    },
    {
      "cell_type": "code",
      "metadata": {
        "colab": {
          "base_uri": "https://localhost:8080/",
          "height": 320
        },
        "id": "vtxhJcceMSRb",
        "outputId": "4f2098bb-79b4-4234-caef-dd47c8d960df"
      },
      "source": [
        "print((color.BOLD + 'Images with no Planes' + color.END).center(110))\n",
        "fig, axes = plt.subplots(nrows = 2, ncols = 6, figsize = (15, 5))\n",
        "indexs = np.where( y[:, 1] == 0 )[0]\n",
        "k = 0\n",
        "for row in axes:\n",
        "    for item in row:\n",
        "        item.set(xticks = [], yticks = [])\n",
        "        item.imshow(X[indexs[k], ..., 0], cmap = 'gray')\n",
        "        k += 1\n",
        "        "
      ],
      "execution_count": 9,
      "outputs": [
        {
          "output_type": "stream",
          "name": "stdout",
          "text": [
            "                                        \u001b[1mImages with no Planes\u001b[0m                                         \n"
          ]
        },
        {
          "output_type": "display_data",
          "data": {
            "text/plain": [
              "<Figure size 1080x360 with 12 Axes>"
            ],
            "image/png": "[encoded data removed]"
          },
          "metadata": {}
        }
      ]
    },
    {
      "cell_type": "markdown",
      "metadata": {
        "id": "JoEmp8C5VKQT"
      },
      "source": [
        "### Import test data"
      ]
    },
    {
      "cell_type": "code",
      "metadata": {
        "colab": {
          "base_uri": "https://localhost:8080/"
        },
        "id": "3aVEwHdNVXiX",
        "outputId": "90e9676a-0c06-4aec-9ff7-2f7d92ebfeb2"
      },
      "source": [
        "%%time\n",
        "!cp /content/drive/MyDrive/Cup/avia-test.zip /content/\n",
        "!cp /content/drive/MyDrive/Cup/avia-test-extended.zip /content/"
      ],
      "execution_count": 10,
      "outputs": [
        {
          "output_type": "stream",
          "name": "stdout",
          "text": [
            "CPU times: user 29.5 ms, sys: 30 ms, total: 59.4 ms\n",
            "Wall time: 1.59 s\n"
          ]
        }
      ]
    },
    {
      "cell_type": "code",
      "metadata": {
        "id": "I7K7h-ezVXiY"
      },
      "source": [
        "%%time\n",
        "!unzip /content/avia-test.zip -d /content/\n",
        "!unzip /content/avia-test-extended.zip -d /content/"
      ],
      "execution_count": null,
      "outputs": []
    },
    {
      "cell_type": "code",
      "metadata": {
        "colab": {
          "base_uri": "https://localhost:8080/",
          "height": 424
        },
        "id": "fkdbxz_ck67B",
        "outputId": "e4fabe45-fa98-48b9-e8a7-88eee386f05b"
      },
      "source": [
        "test =  pd.read_csv('/content/drive/MyDrive/Cup/test_extended.csv')\n",
        "test"
      ],
      "execution_count": 12,
      "outputs": [
        {
          "output_type": "execute_result",
          "data": {
            "text/plain": [
              "                                    filename\n",
              "0       68f33844-472b-4111-b600-f90d544833c7\n",
              "1       7d93a21d-1f16-49ce-8fcc-edf12c40f549\n",
              "2       4a820650-7acd-489a-ad14-9d7ad8c73b6b\n",
              "3       819b216b-2b6c-4539-a722-70648c0706c6\n",
              "4       45f7c47d-03cc-40cd-acc5-b8c1c57872fa\n",
              "...                                      ...\n",
              "100995  82aba9fd-3f78-4087-99f6-af9f5a990677\n",
              "100996  3bb91d2b-53fb-42d4-a644-7e30a39572cd\n",
              "100997  fba3e0de-d8b7-4721-82ae-f6ff135bd746\n",
              "100998  09fa231e-6998-4904-acd7-2ed71408296e\n",
              "100999  c920e196-0321-45c0-b200-6761e0e6d144\n",
              "\n",
              "[101000 rows x 1 columns]"
            ],
            "text/html": [
              "\n",
              "  <div id=\"df-f4dfaa44-0e89-4f83-bf9a-50fd7af9b616\">\n",
              "    <div class=\"colab-df-container\">\n",
              "      <div>\n",
              "<style scoped>\n",
              "    .dataframe tbody tr th:only-of-type {\n",
              "        vertical-align: middle;\n",
              "    }\n",
              "\n",
              "    .dataframe tbody tr th {\n",
              "        vertical-align: top;\n",
              "    }\n",
              "\n",
              "    .dataframe thead th {\n",
              "        text-align: right;\n",
              "    }\n",
              "</style>\n",
              "<table border=\"1\" class=\"dataframe\">\n",
              "  <thead>\n",
              "    <tr style=\"text-align: right;\">\n",
              "      <th></th>\n",
              "      <th>filename</th>\n",
              "    </tr>\n",
              "  </thead>\n",
              "  <tbody>\n",
              "    <tr>\n",
              "      <th>0</th>\n",
              "      <td>68f33844-472b-4111-b600-f90d544833c7</td>\n",
              "    </tr>\n",
              "    <tr>\n",
              "      <th>1</th>\n",
              "      <td>7d93a21d-1f16-49ce-8fcc-edf12c40f549</td>\n",
              "    </tr>\n",
              "    <tr>\n",
              "      <th>2</th>\n",
              "      <td>4a820650-7acd-489a-ad14-9d7ad8c73b6b</td>\n",
              "    </tr>\n",
              "    <tr>\n",
              "      <th>3</th>\n",
              "      <td>819b216b-2b6c-4539-a722-70648c0706c6</td>\n",
              "    </tr>\n",
              "    <tr>\n",
              "      <th>4</th>\n",
              "      <td>45f7c47d-03cc-40cd-acc5-b8c1c57872fa</td>\n",
              "    </tr>\n",
              "    <tr>\n",
              "      <th>...</th>\n",
              "      <td>...</td>\n",
              "    </tr>\n",
              "    <tr>\n",
              "      <th>100995</th>\n",
              "      <td>82aba9fd-3f78-4087-99f6-af9f5a990677</td>\n",
              "    </tr>\n",
              "    <tr>\n",
              "      <th>100996</th>\n",
              "      <td>3bb91d2b-53fb-42d4-a644-7e30a39572cd</td>\n",
              "    </tr>\n",
              "    <tr>\n",
              "      <th>100997</th>\n",
              "      <td>fba3e0de-d8b7-4721-82ae-f6ff135bd746</td>\n",
              "    </tr>\n",
              "    <tr>\n",
              "      <th>100998</th>\n",
              "      <td>09fa231e-6998-4904-acd7-2ed71408296e</td>\n",
              "    </tr>\n",
              "    <tr>\n",
              "      <th>100999</th>\n",
              "      <td>c920e196-0321-45c0-b200-6761e0e6d144</td>\n",
              "    </tr>\n",
              "  </tbody>\n",
              "</table>\n",
              "<p>101000 rows × 1 columns</p>\n",
              "</div>\n",
              "      <button class=\"colab-df-convert\" onclick=\"convertToInteractive('df-f4dfaa44-0e89-4f83-bf9a-50fd7af9b616')\"\n",
              "              title=\"Convert this dataframe to an interactive table.\"\n",
              "              style=\"display:none;\">\n",
              "        \n",
              "  <svg xmlns=\"http://www.w3.org/2000/svg\" height=\"24px\"viewBox=\"0 0 24 24\"\n",
              "       width=\"24px\">\n",
              "    <path d=\"M0 0h24v24H0V0z\" fill=\"none\"/>\n",
              "    <path d=\"M18.56 5.44l.94 2.06.94-2.06 2.06-.94-2.06-.94-.94-2.06-.94 2.06-2.06.94zm-11 1L8.5 8.5l.94-2.06 2.06-.94-2.06-.94L8.5 2.5l-.94 2.06-2.06.94zm10 10l.94 2.06.94-2.06 2.06-.94-2.06-.94-.94-2.06-.94 2.06-2.06.94z\"/><path d=\"M17.41 7.96l-1.37-1.37c-.4-.4-.92-.59-1.43-.59-.52 0-1.04.2-1.43.59L10.3 9.45l-7.72 7.72c-.78.78-.78 2.05 0 2.83L4 21.41c.39.39.9.59 1.41.59.51 0 1.02-.2 1.41-.59l7.78-7.78 2.81-2.81c.8-.78.8-2.07 0-2.86zM5.41 20L4 18.59l7.72-7.72 1.47 1.35L5.41 20z\"/>\n",
              "  </svg>\n",
              "      </button>\n",
              "      \n",
              "  <style>\n",
              "    .colab-df-container {\n",
              "      display:flex;\n",
              "      flex-wrap:wrap;\n",
              "      gap: 12px;\n",
              "    }\n",
              "\n",
              "    .colab-df-convert {\n",
              "      background-color: #E8F0FE;\n",
              "      border: none;\n",
              "      border-radius: 50%;\n",
              "      cursor: pointer;\n",
              "      display: none;\n",
              "      fill: #1967D2;\n",
              "      height: 32px;\n",
              "      padding: 0 0 0 0;\n",
              "      width: 32px;\n",
              "    }\n",
              "\n",
              "    .colab-df-convert:hover {\n",
              "      background-color: #E2EBFA;\n",
              "      box-shadow: 0px 1px 2px rgba(60, 64, 67, 0.3), 0px 1px 3px 1px rgba(60, 64, 67, 0.15);\n",
              "      fill: #174EA6;\n",
              "    }\n",
              "\n",
              "    [theme=dark] .colab-df-convert {\n",
              "      background-color: #3B4455;\n",
              "      fill: #D2E3FC;\n",
              "    }\n",
              "\n",
              "    [theme=dark] .colab-df-convert:hover {\n",
              "      background-color: #434B5C;\n",
              "      box-shadow: 0px 1px 3px 1px rgba(0, 0, 0, 0.15);\n",
              "      filter: drop-shadow(0px 1px 2px rgba(0, 0, 0, 0.3));\n",
              "      fill: #FFFFFF;\n",
              "    }\n",
              "  </style>\n",
              "\n",
              "      <script>\n",
              "        const buttonEl =\n",
              "          document.querySelector('#df-f4dfaa44-0e89-4f83-bf9a-50fd7af9b616 button.colab-df-convert');\n",
              "        buttonEl.style.display =\n",
              "          google.colab.kernel.accessAllowed ? 'block' : 'none';\n",
              "\n",
              "        async function convertToInteractive(key) {\n",
              "          const element = document.querySelector('#df-f4dfaa44-0e89-4f83-bf9a-50fd7af9b616');\n",
              "          const dataTable =\n",
              "            await google.colab.kernel.invokeFunction('convertToInteractive',\n",
              "                                                     [key], {});\n",
              "          if (!dataTable) return;\n",
              "\n",
              "          const docLinkHtml = 'Like what you see? Visit the ' +\n",
              "            '<a target=\"_blank\" href=https://colab.research.google.com/notebooks/data_table.ipynb>data table notebook</a>'\n",
              "            + ' to learn more about interactive tables.';\n",
              "          element.innerHTML = '';\n",
              "          dataTable['output_type'] = 'display_data';\n",
              "          await google.colab.output.renderOutput(dataTable, element);\n",
              "          const docLink = document.createElement('div');\n",
              "          docLink.innerHTML = docLinkHtml;\n",
              "          element.appendChild(docLink);\n",
              "        }\n",
              "      </script>\n",
              "    </div>\n",
              "  </div>\n",
              "  "
            ]
          },
          "metadata": {},
          "execution_count": 12
        }
      ]
    },
    {
      "cell_type": "code",
      "metadata": {
        "id": "afTPE7o9n8RB"
      },
      "source": [
        "path1 = '/content/avia-test/'\n",
        "path2 = '/content/avia-test-extended/'\n",
        "test1 = test.filename[:1000]\n",
        "test2 = test.filename[1000:]"
      ],
      "execution_count": 13,
      "outputs": []
    },
    {
      "cell_type": "code",
      "metadata": {
        "id": "aAfJ5qCFpHQs"
      },
      "source": [
        "files = np.array([path1 + i + '.png' for i in test1] + [path2 + i + '.jpeg' for i in test2])"
      ],
      "execution_count": null,
      "outputs": []
    },
    {
      "cell_type": "code",
      "metadata": {
        "colab": {
          "base_uri": "https://localhost:8080/"
        },
        "id": "gsxLxqSUVXiZ",
        "outputId": "0186656c-a5b5-41a6-b5e9-1164a890ed32"
      },
      "source": [
        "%%time\n",
        "X_test = np.zeros((files.shape[0], 20, 20, 1))\n",
        "for ind, i in enumerate(files):\n",
        "    im = np.array(Image.open(i, mode='r').convert('L'))\n",
        "    X_test[ind, :, :, 0] = im\n",
        "    # X_test[ind] = StandardScaler().fit_transform(im.flatten()[:, None]).reshape(20, 20, 1)\n",
        "    if ind % 5000 == 0:\n",
        "        print(ind)"
      ],
      "execution_count": null,
      "outputs": [
        {
          "output_type": "stream",
          "text": [
            "0\n",
            "5000\n",
            "10000\n",
            "15000\n",
            "20000\n",
            "25000\n",
            "30000\n",
            "35000\n",
            "40000\n",
            "45000\n",
            "50000\n",
            "55000\n",
            "60000\n",
            "65000\n",
            "70000\n",
            "75000\n",
            "80000\n",
            "85000\n",
            "90000\n",
            "95000\n",
            "100000\n",
            "CPU times: user 12.1 s, sys: 1.48 s, total: 13.6 s\n",
            "Wall time: 13.6 s\n"
          ],
          "name": "stdout"
        }
      ]
    },
    {
      "cell_type": "markdown",
      "metadata": {
        "id": "o4Y85mH7MzDF"
      },
      "source": [
        "#### Show images"
      ]
    },
    {
      "cell_type": "code",
      "metadata": {
        "colab": {
          "base_uri": "https://localhost:8080/"
        },
        "id": "dkAHyvX1mSEc",
        "outputId": "3fcd253c-a3e6-4fa0-9e10-5c325f4278de"
      },
      "source": [
        "files[:10]"
      ],
      "execution_count": null,
      "outputs": [
        {
          "output_type": "execute_result",
          "data": {
            "text/plain": [
              "array(['/content/avia-test/68f33844-472b-4111-b600-f90d544833c7.png',\n",
              "       '/content/avia-test/7d93a21d-1f16-49ce-8fcc-edf12c40f549.png',\n",
              "       '/content/avia-test/4a820650-7acd-489a-ad14-9d7ad8c73b6b.png',\n",
              "       '/content/avia-test/819b216b-2b6c-4539-a722-70648c0706c6.png',\n",
              "       '/content/avia-test/45f7c47d-03cc-40cd-acc5-b8c1c57872fa.png',\n",
              "       '/content/avia-test/6c6ab487-e2cc-4cfa-9b76-6d91ddb28d9b.png',\n",
              "       '/content/avia-test/991a4e12-7aa1-4f2f-8baa-beef3c42a248.png',\n",
              "       '/content/avia-test/73391958-6b88-40a5-9191-5386b7925b40.png',\n",
              "       '/content/avia-test/ce486f97-c0e8-421e-93d4-6470383db116.png',\n",
              "       '/content/avia-test/fa83034a-1ba8-48ee-a040-342e4cd6fe65.png'],\n",
              "      dtype='<U69')"
            ]
          },
          "metadata": {},
          "execution_count": 16
        }
      ]
    },
    {
      "cell_type": "code",
      "metadata": {
        "colab": {
          "base_uri": "https://localhost:8080/",
          "height": 415
        },
        "id": "8GTLl1saIDuq",
        "outputId": "0c91618b-c3ea-4856-9605-c7dde4ac4518"
      },
      "source": [
        "fig, axes = plt.subplots(nrows = 3, ncols = 6, figsize = (14, 7))\n",
        "k = 0\n",
        "for row in axes:\n",
        "    for item in row:\n",
        "        item.set(xticks = [], yticks = [])\n",
        "        item.imshow(X_test[k, ..., 0], cmap = 'gray')\n",
        "        k += 1\n"
      ],
      "execution_count": null,
      "outputs": [
        {
          "output_type": "display_data",
          "data": {
            "image/png": "[encoded data removed]",
            "text/plain": [
              "<Figure size 1008x504 with 18 Axes>"
            ]
          },
          "metadata": {}
        }
      ]
    },
    {
      "cell_type": "markdown",
      "metadata": {
        "id": "DnJHsKC-vict"
      },
      "source": [
        "### Create Train/Test Generator"
      ]
    },
    {
      "cell_type": "code",
      "metadata": {
        "id": "ghxkDDPdvpjA"
      },
      "source": [
        "train_datagen = ImageDataGenerator(\n",
        "    samplewise_center=True,\n",
        "    samplewise_std_normalization=True,\n",
        "    zca_whitening=False,\n",
        "    rotation_range=45,\n",
        "    width_shift_range=0,\n",
        "    height_shift_range=0,\n",
        "    fill_mode=\"nearest\",\n",
        "    horizontal_flip=True,\n",
        "    vertical_flip=True,\n",
        "    rescale=1./255,\n",
        "    data_format='channels_last',\n",
        "    validation_split=0.15\n",
        ")\n",
        "\n",
        "train_dg = train_datagen.flow(\n",
        "    X, y,\n",
        "    batch_size=20,\n",
        "    shuffle=True,\n",
        "    subset='training',\n",
        ")\n",
        "\n",
        "valid_dg = train_datagen.flow(\n",
        "    X, y,\n",
        "    batch_size=20,\n",
        "    shuffle=True,\n",
        "    subset='validation',\n",
        ")\n",
        "train_final_dg = train_datagen.flow(X, y,\n",
        "    batch_size=20,\n",
        "    shuffle=True)\n",
        "del X, y"
      ],
      "execution_count": null,
      "outputs": []
    },
    {
      "cell_type": "code",
      "metadata": {
        "id": "oExuZTxMgFFK"
      },
      "source": [
        "test_datagen = ImageDataGenerator(\n",
        "    samplewise_center=True,\n",
        "    samplewise_std_normalization=True,\n",
        "    zca_whitening=False,\n",
        "    rescale=1./255,\n",
        "    data_format='channels_last'\n",
        ")\n",
        "\n",
        "test_dg = test_datagen.flow(X_test, batch_size=1, shuffle = False)\n",
        "del X_test"
      ],
      "execution_count": null,
      "outputs": []
    },
    {
      "cell_type": "markdown",
      "metadata": {
        "id": "pAzLZLCNaEfF"
      },
      "source": [
        "### Create Model"
      ]
    },
    {
      "cell_type": "code",
      "metadata": {
        "id": "mkF_OwUpazji"
      },
      "source": [
        "if 'model' in locals():\n",
        "    del model"
      ],
      "execution_count": null,
      "outputs": []
    },
    {
      "cell_type": "code",
      "metadata": {
        "id": "xgOtopSnZ8Nw"
      },
      "source": [
        "def build_model():\n",
        "    input = Input((20, 20, 1), name='Input')\n",
        "    out = Conv2D(100, (3, 3), padding='same', activation = 'relu', name = 'Conv11')(input)\n",
        "    out = Conv2D(100, (3, 3), padding='same', activation = 'relu', name = 'Conv12')(out)\n",
        "    out1 = MaxPool2D((2, 2), name = 'Maxpool_1')(out)\n",
        "    out = Conv2D(200, (3, 3), padding='same', activation = 'relu', name = 'Conv21')(out1)\n",
        "    out = Conv2D(200, (3, 3), padding='same', activation = 'relu', name = 'Conv22')(out)\n",
        "    out = concat([out1, out], axis = 3)\n",
        "    out2 = MaxPool2D((2, 2), name = 'Maxpool_2')(out)\n",
        "    out = Conv2D(400, (3, 3), padding='same', activation = 'relu', name = 'Conv31')(out2)\n",
        "    out = Conv2D(400, (3, 3), padding='same', activation = 'relu', name = 'Conv32')(out)\n",
        "    out = concat([out2, out], axis = 3)\n",
        "    out3 = MaxPool2D((2, 2), name = 'Maxpool_3')(out)\n",
        "    out = Conv2D(800, (3, 3), padding='same', activation = 'relu', name = 'Conv41')(out3)\n",
        "    out = Conv2D(800, (3, 3), padding='same', activation = 'relu', name = 'Conv42')(out)\n",
        "    out = concat([out3, out], axis = 3)\n",
        "    out = GlobalAveragePooling2D(name = 'Avarage')(out)\n",
        "    out = Dense(2000, activation = 'relu', name = 'Dense1')(out)\n",
        "    out = Dropout(0.4, name = 'Dropout_1')(out)\n",
        "    out = Dense(1000, activation = 'relu', name = 'Dense2')(out)\n",
        "    out = Dropout(0.2, name = 'Dropout_2')(out)\n",
        "    out = Dense(2, activation='softmax', name = 'Output')(out)\n",
        "    return Model(inputs=input, outputs=out, name = 'model')\n",
        "\n",
        "model = build_model()"
      ],
      "execution_count": null,
      "outputs": []
    },
    {
      "cell_type": "code",
      "metadata": {
        "id": "gxgvTHwx3b6p",
        "colab": {
          "base_uri": "https://localhost:8080/"
        },
        "outputId": "4e300a05-dfae-45f9-daab-e53c6ecb3bc8"
      },
      "source": [
        "model.summary()"
      ],
      "execution_count": null,
      "outputs": [
        {
          "output_type": "stream",
          "text": [
            "Model: \"model\"\n",
            "__________________________________________________________________________________________________\n",
            "Layer (type)                    Output Shape         Param #     Connected to                     \n",
            "==================================================================================================\n",
            "Input (InputLayer)              [(None, 20, 20, 1)]  0                                            \n",
            "__________________________________________________________________________________________________\n",
            "Conv11 (Conv2D)                 (None, 20, 20, 100)  1000        Input[0][0]                      \n",
            "__________________________________________________________________________________________________\n",
            "Conv12 (Conv2D)                 (None, 20, 20, 100)  90100       Conv11[0][0]                     \n",
            "__________________________________________________________________________________________________\n",
            "Maxpool_1 (MaxPooling2D)        (None, 10, 10, 100)  0           Conv12[0][0]                     \n",
            "__________________________________________________________________________________________________\n",
            "Conv21 (Conv2D)                 (None, 10, 10, 200)  180200      Maxpool_1[0][0]                  \n",
            "__________________________________________________________________________________________________\n",
            "Conv22 (Conv2D)                 (None, 10, 10, 200)  360200      Conv21[0][0]                     \n",
            "__________________________________________________________________________________________________\n",
            "tf.concat (TFOpLambda)          (None, 10, 10, 300)  0           Maxpool_1[0][0]                  \n",
            "                                                                 Conv22[0][0]                     \n",
            "__________________________________________________________________________________________________\n",
            "Maxpool_2 (MaxPooling2D)        (None, 5, 5, 300)    0           tf.concat[0][0]                  \n",
            "__________________________________________________________________________________________________\n",
            "Conv31 (Conv2D)                 (None, 5, 5, 400)    1080400     Maxpool_2[0][0]                  \n",
            "__________________________________________________________________________________________________\n",
            "Conv32 (Conv2D)                 (None, 5, 5, 400)    1440400     Conv31[0][0]                     \n",
            "__________________________________________________________________________________________________\n",
            "tf.concat_1 (TFOpLambda)        (None, 5, 5, 700)    0           Maxpool_2[0][0]                  \n",
            "                                                                 Conv32[0][0]                     \n",
            "__________________________________________________________________________________________________\n",
            "Maxpool_3 (MaxPooling2D)        (None, 2, 2, 700)    0           tf.concat_1[0][0]                \n",
            "__________________________________________________________________________________________________\n",
            "Conv41 (Conv2D)                 (None, 2, 2, 800)    5040800     Maxpool_3[0][0]                  \n",
            "__________________________________________________________________________________________________\n",
            "Conv42 (Conv2D)                 (None, 2, 2, 800)    5760800     Conv41[0][0]                     \n",
            "__________________________________________________________________________________________________\n",
            "tf.concat_2 (TFOpLambda)        (None, 2, 2, 1500)   0           Maxpool_3[0][0]                  \n",
            "                                                                 Conv42[0][0]                     \n",
            "__________________________________________________________________________________________________\n",
            "Avarage (GlobalAveragePooling2D (None, 1500)         0           tf.concat_2[0][0]                \n",
            "__________________________________________________________________________________________________\n",
            "Dense1 (Dense)                  (None, 2000)         3002000     Avarage[0][0]                    \n",
            "__________________________________________________________________________________________________\n",
            "Dropout_1 (Dropout)             (None, 2000)         0           Dense1[0][0]                     \n",
            "__________________________________________________________________________________________________\n",
            "Dense2 (Dense)                  (None, 1000)         2001000     Dropout_1[0][0]                  \n",
            "__________________________________________________________________________________________________\n",
            "Dropout_2 (Dropout)             (None, 1000)         0           Dense2[0][0]                     \n",
            "__________________________________________________________________________________________________\n",
            "Output (Dense)                  (None, 2)            2002        Dropout_2[0][0]                  \n",
            "==================================================================================================\n",
            "Total params: 18,958,902\n",
            "Trainable params: 18,958,902\n",
            "Non-trainable params: 0\n",
            "__________________________________________________________________________________________________\n"
          ],
          "name": "stdout"
        }
      ]
    },
    {
      "cell_type": "code",
      "metadata": {
        "id": "yBLhYoEFOq-X"
      },
      "source": [
        "def compile_model():\n",
        "    loss = BinaryCrossentropy()\n",
        "    optim = Adam()\n",
        "    auc = AUC(name='auc')\n",
        "    model.compile(optimizer=optim, loss = loss, metrics = [auc])\n",
        "compile_model()"
      ],
      "execution_count": null,
      "outputs": []
    },
    {
      "cell_type": "code",
      "metadata": {
        "id": "--i1jnqENdb6",
        "colab": {
          "base_uri": "https://localhost:8080/"
        },
        "outputId": "317a78bb-5742-485e-cb18-7cb27b38fa13"
      },
      "source": [
        "hist = model.fit(\n",
        "    train_dg,\n",
        "    steps_per_epoch=800,\n",
        "    epochs=50,\n",
        "    verbose=1,\n",
        "    callbacks=None,\n",
        "    validation_data=valid_dg,\n",
        "    validation_steps=233,\n",
        "    class_weight=None,\n",
        "    use_multiprocessing=True,\n",
        "    shuffle=True,\n",
        "    initial_epoch=0\n",
        ")"
      ],
      "execution_count": null,
      "outputs": [
        {
          "output_type": "stream",
          "text": [
            "Epoch 1/50\n",
            "800/800 [==============================] - 61s 34ms/step - loss: 0.2449 - auc: 0.9610 - val_loss: 0.2182 - val_auc: 0.9698\n",
            "Epoch 2/50\n",
            "800/800 [==============================] - 27s 34ms/step - loss: 0.1534 - auc: 0.9815 - val_loss: 0.1630 - val_auc: 0.9825\n",
            "Epoch 3/50\n",
            "800/800 [==============================] - 27s 34ms/step - loss: 0.1561 - auc: 0.9832 - val_loss: 0.1591 - val_auc: 0.9816\n",
            "Epoch 4/50\n",
            "800/800 [==============================] - 27s 34ms/step - loss: 0.1245 - auc: 0.9864 - val_loss: 0.1314 - val_auc: 0.9817\n",
            "Epoch 5/50\n",
            "800/800 [==============================] - 27s 34ms/step - loss: 0.1223 - auc: 0.9883 - val_loss: 0.1730 - val_auc: 0.9761\n",
            "Epoch 6/50\n",
            "800/800 [==============================] - 27s 33ms/step - loss: 0.1030 - auc: 0.9895 - val_loss: 0.1102 - val_auc: 0.9872\n",
            "Epoch 7/50\n",
            "800/800 [==============================] - 27s 34ms/step - loss: 0.0939 - auc: 0.9909 - val_loss: 0.1534 - val_auc: 0.9828\n",
            "Epoch 8/50\n",
            "800/800 [==============================] - 27s 34ms/step - loss: 0.1072 - auc: 0.9899 - val_loss: 0.1093 - val_auc: 0.9875\n",
            "Epoch 9/50\n",
            "800/800 [==============================] - 27s 33ms/step - loss: 0.1312 - auc: 0.9874 - val_loss: 0.1241 - val_auc: 0.9876\n",
            "Epoch 10/50\n",
            "800/800 [==============================] - 27s 34ms/step - loss: 0.1397 - auc: 0.9855 - val_loss: 0.1152 - val_auc: 0.9889\n",
            "Epoch 11/50\n",
            "800/800 [==============================] - 27s 34ms/step - loss: 0.1084 - auc: 0.9887 - val_loss: 0.1186 - val_auc: 0.9896\n",
            "Epoch 12/50\n",
            "800/800 [==============================] - 27s 34ms/step - loss: 0.0986 - auc: 0.9902 - val_loss: 0.1075 - val_auc: 0.9906\n",
            "Epoch 13/50\n",
            "800/800 [==============================] - 27s 33ms/step - loss: 0.1061 - auc: 0.9900 - val_loss: 0.1412 - val_auc: 0.9804\n",
            "Epoch 14/50\n",
            "800/800 [==============================] - 27s 33ms/step - loss: 0.0915 - auc: 0.9913 - val_loss: 0.1193 - val_auc: 0.9863\n",
            "Epoch 15/50\n",
            "800/800 [==============================] - 27s 33ms/step - loss: 0.0873 - auc: 0.9914 - val_loss: 0.1520 - val_auc: 0.9889\n",
            "Epoch 16/50\n",
            "800/800 [==============================] - 27s 33ms/step - loss: 0.0884 - auc: 0.9914 - val_loss: 0.1056 - val_auc: 0.9898\n",
            "Epoch 17/50\n",
            "800/800 [==============================] - 27s 33ms/step - loss: 0.0901 - auc: 0.9913 - val_loss: 0.1676 - val_auc: 0.9897\n",
            "Epoch 18/50\n",
            "800/800 [==============================] - 27s 34ms/step - loss: 0.1352 - auc: 0.9887 - val_loss: 0.1030 - val_auc: 0.9928\n",
            "Epoch 19/50\n",
            "800/800 [==============================] - 27s 33ms/step - loss: 0.0947 - auc: 0.9909 - val_loss: 0.0912 - val_auc: 0.9911\n",
            "Epoch 20/50\n",
            "800/800 [==============================] - 27s 33ms/step - loss: 0.0879 - auc: 0.9914 - val_loss: 0.0993 - val_auc: 0.9892\n",
            "Epoch 21/50\n",
            "800/800 [==============================] - 27s 34ms/step - loss: 0.1249 - auc: 0.9877 - val_loss: 0.0987 - val_auc: 0.9903\n",
            "Epoch 22/50\n",
            "800/800 [==============================] - 27s 33ms/step - loss: 0.0782 - auc: 0.9935 - val_loss: 0.0979 - val_auc: 0.9908\n",
            "Epoch 23/50\n",
            "800/800 [==============================] - 27s 33ms/step - loss: 0.0862 - auc: 0.9917 - val_loss: 0.0917 - val_auc: 0.9911\n",
            "Epoch 24/50\n",
            "800/800 [==============================] - 27s 33ms/step - loss: 0.0787 - auc: 0.9923 - val_loss: 0.1384 - val_auc: 0.9866\n",
            "Epoch 25/50\n",
            "800/800 [==============================] - 27s 33ms/step - loss: 0.0882 - auc: 0.9917 - val_loss: 2.2506 - val_auc: 0.9848\n",
            "Epoch 26/50\n",
            "800/800 [==============================] - 27s 34ms/step - loss: 0.0810 - auc: 0.9920 - val_loss: 0.1165 - val_auc: 0.9871\n",
            "Epoch 27/50\n",
            "800/800 [==============================] - 27s 34ms/step - loss: 0.0846 - auc: 0.9921 - val_loss: 0.1497 - val_auc: 0.9894\n",
            "Epoch 28/50\n",
            "800/800 [==============================] - 27s 34ms/step - loss: 0.0773 - auc: 0.9931 - val_loss: 0.0873 - val_auc: 0.9935\n",
            "Epoch 29/50\n",
            "800/800 [==============================] - 27s 34ms/step - loss: 0.3565 - auc: 0.9876 - val_loss: 0.0939 - val_auc: 0.9908\n",
            "Epoch 30/50\n",
            "800/800 [==============================] - 27s 34ms/step - loss: 0.0937 - auc: 0.9911 - val_loss: 0.0887 - val_auc: 0.9913\n",
            "Epoch 31/50\n",
            "800/800 [==============================] - 27s 34ms/step - loss: 0.0808 - auc: 0.9925 - val_loss: 0.0877 - val_auc: 0.9911\n",
            "Epoch 32/50\n",
            "800/800 [==============================] - 27s 34ms/step - loss: 0.0756 - auc: 0.9930 - val_loss: 0.0827 - val_auc: 0.9897\n",
            "Epoch 33/50\n",
            "800/800 [==============================] - 27s 34ms/step - loss: 0.0772 - auc: 0.9926 - val_loss: 0.0894 - val_auc: 0.9926\n",
            "Epoch 34/50\n",
            "800/800 [==============================] - 27s 34ms/step - loss: 0.0714 - auc: 0.9934 - val_loss: 0.0822 - val_auc: 0.9917\n",
            "Epoch 35/50\n",
            "800/800 [==============================] - 27s 33ms/step - loss: 0.0689 - auc: 0.9937 - val_loss: 0.0774 - val_auc: 0.9923\n",
            "Epoch 36/50\n",
            "800/800 [==============================] - 27s 33ms/step - loss: 0.0798 - auc: 0.9925 - val_loss: 0.1042 - val_auc: 0.9920\n",
            "Epoch 37/50\n",
            "800/800 [==============================] - 27s 33ms/step - loss: 0.0753 - auc: 0.9935 - val_loss: 0.1594 - val_auc: 0.9857\n",
            "Epoch 38/50\n",
            "800/800 [==============================] - 27s 33ms/step - loss: 0.0802 - auc: 0.9923 - val_loss: 0.0835 - val_auc: 0.9929\n",
            "Epoch 39/50\n",
            "800/800 [==============================] - 27s 33ms/step - loss: 0.0749 - auc: 0.9927 - val_loss: 0.0857 - val_auc: 0.9912\n",
            "Epoch 40/50\n",
            "800/800 [==============================] - 27s 33ms/step - loss: 0.0706 - auc: 0.9934 - val_loss: 0.0966 - val_auc: 0.9909\n",
            "Epoch 41/50\n",
            "800/800 [==============================] - 27s 34ms/step - loss: 0.1986 - auc: 0.9888 - val_loss: 0.1356 - val_auc: 0.9861\n",
            "Epoch 42/50\n",
            "800/800 [==============================] - 27s 33ms/step - loss: 0.0877 - auc: 0.9914 - val_loss: 0.0844 - val_auc: 0.9938\n",
            "Epoch 43/50\n",
            "800/800 [==============================] - 27s 34ms/step - loss: 0.0742 - auc: 0.9923 - val_loss: 0.0885 - val_auc: 0.9918\n",
            "Epoch 44/50\n",
            "800/800 [==============================] - 27s 34ms/step - loss: 0.0778 - auc: 0.9933 - val_loss: 0.0930 - val_auc: 0.9928\n",
            "Epoch 45/50\n",
            "800/800 [==============================] - 27s 34ms/step - loss: 0.0733 - auc: 0.9930 - val_loss: 0.0737 - val_auc: 0.9943\n",
            "Epoch 46/50\n",
            "800/800 [==============================] - 27s 34ms/step - loss: 0.1302 - auc: 0.9912 - val_loss: 0.1013 - val_auc: 0.9939\n",
            "Epoch 47/50\n",
            "800/800 [==============================] - 27s 34ms/step - loss: 0.0727 - auc: 0.9925 - val_loss: 0.1122 - val_auc: 0.9864\n",
            "Epoch 48/50\n",
            "800/800 [==============================] - 27s 34ms/step - loss: 0.0643 - auc: 0.9946 - val_loss: 0.0768 - val_auc: 0.9958\n",
            "Epoch 49/50\n",
            "800/800 [==============================] - 27s 33ms/step - loss: 0.0712 - auc: 0.9936 - val_loss: 0.1164 - val_auc: 0.9939\n",
            "Epoch 50/50\n",
            "800/800 [==============================] - 27s 34ms/step - loss: 0.0779 - auc: 0.9929 - val_loss: 0.0790 - val_auc: 0.9934\n"
          ],
          "name": "stdout"
        }
      ]
    },
    {
      "cell_type": "code",
      "metadata": {
        "id": "u0evblNBYcJc",
        "colab": {
          "base_uri": "https://localhost:8080/",
          "height": 513
        },
        "outputId": "25f626ca-95e0-4d2e-e705-389852800535"
      },
      "source": [
        "plt.plot(hist.history['loss'], label='train_loss')\n",
        "plt.plot(hist.history['val_loss'], label='valid_loss')\n",
        "plt.legend()\n",
        "plt.grid()\n",
        "plt.show()\n",
        "plt.plot(hist.history['auc'], label='train_auc')\n",
        "plt.plot(hist.history['val_auc'], label='valid_auc')\n",
        "plt.legend()\n",
        "plt.grid()\n",
        "plt.show() "
      ],
      "execution_count": null,
      "outputs": [
        {
          "output_type": "display_data",
          "data": {
            "image/png": "[encoded data removed]",
            "text/plain": [
              "<Figure size 432x288 with 1 Axes>"
            ]
          },
          "metadata": {
            "needs_background": "light"
          }
        },
        {
          "output_type": "display_data",
          "data": {
            "image/png": "[encoded data removed]",
            "text/plain": [
              "<Figure size 432x288 with 1 Axes>"
            ]
          },
          "metadata": {
            "needs_background": "light"
          }
        }
      ]
    },
    {
      "cell_type": "markdown",
      "metadata": {
        "id": "Koy9al-J_EHo"
      },
      "source": [
        "### Create Submission"
      ]
    },
    {
      "cell_type": "code",
      "metadata": {
        "id": "31Fi8CnP_J10"
      },
      "source": [
        "if 'model' in locals():\n",
        "    del model\n",
        "model = build_model()\n",
        "compile_model()"
      ],
      "execution_count": null,
      "outputs": []
    },
    {
      "cell_type": "code",
      "metadata": {
        "id": "AK4lEUXiCIw-",
        "colab": {
          "base_uri": "https://localhost:8080/"
        },
        "outputId": "ac22b132-30ee-451b-d4f7-043b2ac430b1"
      },
      "source": [
        "model.fit(\n",
        "    train_final_dg,\n",
        "    steps_per_epoch=800,\n",
        "    use_multiprocessing=True,\n",
        "    epochs=30,\n",
        ")"
      ],
      "execution_count": null,
      "outputs": [
        {
          "output_type": "stream",
          "text": [
            "Epoch 1/30\n",
            "800/800 [==============================] - 26s 31ms/step - loss: 0.2469 - auc: 0.9594\n",
            "Epoch 2/30\n",
            "800/800 [==============================] - 24s 30ms/step - loss: 0.1562 - auc: 0.9818\n",
            "Epoch 3/30\n",
            "800/800 [==============================] - 25s 31ms/step - loss: 0.1336 - auc: 0.9850\n",
            "Epoch 4/30\n",
            "800/800 [==============================] - 24s 30ms/step - loss: 0.1254 - auc: 0.9872\n",
            "Epoch 5/30\n",
            "800/800 [==============================] - 25s 31ms/step - loss: 0.1155 - auc: 0.9873\n",
            "Epoch 6/30\n",
            "800/800 [==============================] - 25s 31ms/step - loss: 0.1091 - auc: 0.9890\n",
            "Epoch 7/30\n",
            "800/800 [==============================] - 25s 31ms/step - loss: 0.1118 - auc: 0.9882\n",
            "Epoch 8/30\n",
            "800/800 [==============================] - 24s 30ms/step - loss: 0.0975 - auc: 0.9897\n",
            "Epoch 9/30\n",
            "800/800 [==============================] - 24s 30ms/step - loss: 0.0975 - auc: 0.9904\n",
            "Epoch 10/30\n",
            "800/800 [==============================] - 24s 30ms/step - loss: 0.0906 - auc: 0.9910\n",
            "Epoch 11/30\n",
            "800/800 [==============================] - 24s 30ms/step - loss: 0.0934 - auc: 0.9907\n",
            "Epoch 12/30\n",
            "800/800 [==============================] - 24s 30ms/step - loss: 0.0954 - auc: 0.9914\n",
            "Epoch 13/30\n",
            "800/800 [==============================] - 24s 30ms/step - loss: 0.0926 - auc: 0.9916\n",
            "Epoch 14/30\n",
            "800/800 [==============================] - 24s 30ms/step - loss: 0.0861 - auc: 0.9913\n",
            "Epoch 15/30\n",
            "800/800 [==============================] - 24s 30ms/step - loss: 0.1214 - auc: 0.9883\n",
            "Epoch 16/30\n",
            "800/800 [==============================] - 24s 30ms/step - loss: 0.0974 - auc: 0.9907\n",
            "Epoch 17/30\n",
            "800/800 [==============================] - 24s 30ms/step - loss: 0.0915 - auc: 0.9910\n",
            "Epoch 18/30\n",
            "800/800 [==============================] - 24s 30ms/step - loss: 0.0847 - auc: 0.9922\n",
            "Epoch 19/30\n",
            "800/800 [==============================] - 24s 30ms/step - loss: 0.0792 - auc: 0.9926\n",
            "Epoch 20/30\n",
            "800/800 [==============================] - 24s 30ms/step - loss: 0.0842 - auc: 0.9924\n",
            "Epoch 21/30\n",
            "800/800 [==============================] - 24s 30ms/step - loss: 0.0887 - auc: 0.9916\n",
            "Epoch 22/30\n",
            "800/800 [==============================] - 24s 31ms/step - loss: 0.0828 - auc: 0.9924\n",
            "Epoch 23/30\n",
            "800/800 [==============================] - 24s 30ms/step - loss: 0.0798 - auc: 0.9927\n",
            "Epoch 24/30\n",
            "800/800 [==============================] - 24s 30ms/step - loss: 0.0864 - auc: 0.9922\n",
            "Epoch 25/30\n",
            "800/800 [==============================] - 24s 30ms/step - loss: 0.0803 - auc: 0.9923\n",
            "Epoch 26/30\n",
            "800/800 [==============================] - 24s 30ms/step - loss: 0.0815 - auc: 0.9921\n",
            "Epoch 27/30\n",
            "800/800 [==============================] - 24s 30ms/step - loss: 0.0867 - auc: 0.9912\n",
            "Epoch 28/30\n",
            "800/800 [==============================] - 24s 30ms/step - loss: 0.0793 - auc: 0.9924\n",
            "Epoch 29/30\n",
            "800/800 [==============================] - 24s 30ms/step - loss: 0.0703 - auc: 0.9943\n",
            "Epoch 30/30\n",
            "800/800 [==============================] - 24s 30ms/step - loss: 0.0771 - auc: 0.9926\n"
          ],
          "name": "stdout"
        },
        {
          "output_type": "execute_result",
          "data": {
            "text/plain": [
              "<keras.callbacks.History at 0x7fa526509990>"
            ]
          },
          "metadata": {},
          "execution_count": 27
        }
      ]
    },
    {
      "cell_type": "code",
      "metadata": {
        "id": "Knxq3e4qotKO"
      },
      "source": [
        "y_pred = model.predict(test_dg)"
      ],
      "execution_count": null,
      "outputs": []
    },
    {
      "cell_type": "code",
      "metadata": {
        "id": "5VNCV4l0N1g2"
      },
      "source": [
        "test['sign'] = y_pred[:, 1]\n",
        "test"
      ],
      "execution_count": null,
      "outputs": []
    },
    {
      "cell_type": "code",
      "metadata": {
        "id": "-9XAjD_DOtZl"
      },
      "source": [
        "test[['sign', 'filename']].to_csv('/content/drive/MyDrive/Cup/submission.csv', index=False)"
      ],
      "execution_count": null,
      "outputs": []
    },
    {
      "cell_type": "markdown",
      "metadata": {
        "id": "djmZ3jl8JZkR"
      },
      "source": [
        "## Score: 99.8"
      ]
    }
  ]
}