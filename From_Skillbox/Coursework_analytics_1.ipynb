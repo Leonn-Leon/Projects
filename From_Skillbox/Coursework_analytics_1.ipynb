{
 "cells": [
  {
   "cell_type": "markdown",
   "metadata": {},
   "source": [
    "# Курсовая работа. Блок 1\n",
    "*Pandas и Matplotlib*\n",
    "\n",
    "**NB!** Код должен быть с комментариями к каждому логическому блоку кода. В противном случае работа **не** будет принята. <br><br>\n",
    "Выполнение курсовой работы может потребовать использование дополнительных библиотек. \n",
    "\n",
    "<br><br>\n",
    "**Описание работы:**\n",
    "\n",
    "Перед вами стоит бизнес-задача – на основании имеющихся данных подготовить аналитический отчет, который в дальнейшем поможет продюсерам образовательных программ эффективно выстраивать стратегию по модернизированию и улучшению курсов. В начале отчета предлагается оформить емкий описательный блок по каждому курсу на основании рассчитанных показателей. Далее предлагается посчитать потенциальную нагрузку на преподавателей, чтобы оценить необходимость расширения штата сотрудников. Затем идет блок из двух пунктов по анализу качества контента курсов, где необходимо выявить проблемные модули, которые, возможно, требуют доработки. Также стоит задача выявить потенциальную сезонность. Наконец, предложено задание для самостоятельной разработки метрики успеваемости студентов для нахождения тех, кто значительно хуже справляются с прохождением курса. Каждый из пунктов анализа предполагается сопроводить аналитическим выводом на основании рассчитанных метрик.\n",
    "\n",
    "<br><br>\n",
    "\n",
    "_________\n",
    "Обозначения:<br><br>\n",
    "&nbsp;&nbsp;&nbsp;&nbsp;**(p)** – задание может быть выполнено после прохождения модулей по Pandas <br>\n",
    "&nbsp;&nbsp;&nbsp;&nbsp;**(m)** – задание может быть выполнено после прохождения модуля по Matplotlib <br>\n",
    "&nbsp;&nbsp;&nbsp;&nbsp;⭐ – необязательное задание повышенной сложности\n",
    "_________\n",
    "\n",
    "[Codebook](#Codebook) <br>\n",
    "[1. Описание и начальная работа с данными](#1.-Описание-и-начальная-работа-с-данными)<br>\n",
    "[2. Расчет потенциальной нагрузки на преподавателей](#2.-Расчет-потенциальной-нагрузки-на-преподавателей)<br>\n",
    "[3. Выявление проблемных модулей](#3.-Выявление-проблемных-модулей)<br>\n",
    "[4. Расчет конверсии](#4.-Расчет-конверсии) <br>\n",
    "[5. Метрика успеваемости ](#5.-Метрика-успеваемости)"
   ]
  },
  {
   "cell_type": "markdown",
   "metadata": {},
   "source": [
    "## Codebook\n",
    "\n",
    "`courses.csv` содержит следующие значения: <br><br>\n",
    "&nbsp;&nbsp;&nbsp;&nbsp; `id` – идентификатор курса <br>\n",
    "&nbsp;&nbsp;&nbsp;&nbsp; `title` – название курса <br>\n",
    "&nbsp;&nbsp;&nbsp;&nbsp;  `field` – сфера, к которой относится курс <br> <br><br>\n",
    "`students.csv` содержит следующие значения: <br><br>\n",
    "&nbsp;&nbsp;&nbsp;&nbsp; `id` – идентификатор студента <br>\n",
    "&nbsp;&nbsp;&nbsp;&nbsp; `city` – город студента <br>\n",
    "&nbsp;&nbsp;&nbsp;&nbsp;  `birthday` – день рождения студента <br> <br><br>\n",
    "`course_contents.csv` содержит следующие значения: <br><br>\n",
    "&nbsp;&nbsp;&nbsp;&nbsp; `course_id` – идентификатор курса <br>\n",
    "&nbsp;&nbsp;&nbsp;&nbsp; `module_number` – номер модуля <br>\n",
    "&nbsp;&nbsp;&nbsp;&nbsp;  `module_title` – название модуля <br> \n",
    "&nbsp;&nbsp;&nbsp;&nbsp; `lesson_number` – номер урока <br>\n",
    "&nbsp;&nbsp;&nbsp;&nbsp;  `lesson_title` – название урока <br>\n",
    "&nbsp;&nbsp;&nbsp;&nbsp;  `lesson_token` – токен урока <br> \n",
    "&nbsp;&nbsp;&nbsp;&nbsp; `is_video` – наличие видео *(true/false)* <br>\n",
    "&nbsp;&nbsp;&nbsp;&nbsp;  `is_homework` – наличие домашней работы *(true/false)* <br>\n",
    "<br><br>\n",
    "`progresses.csv` содержит следующие значения: <br><br>\n",
    "&nbsp;&nbsp;&nbsp;&nbsp; `id` – идентификатор прогресса <br>\n",
    "&nbsp;&nbsp;&nbsp;&nbsp; `student_id` – идентификатор студента <br>\n",
    "&nbsp;&nbsp;&nbsp;&nbsp;  `course_id` – идентификатор курса <br> <br><br>\n",
    "`progress_phases.csv` содержит следующие значения: <br><br>\n",
    "&nbsp;&nbsp;&nbsp;&nbsp; `progress_id` – идентификатор прогресса <br>\n",
    "&nbsp;&nbsp;&nbsp;&nbsp; `module_number` – номер модуля <br>\n",
    "&nbsp;&nbsp;&nbsp;&nbsp; `lesson_number` – номер урока <br>\n",
    "&nbsp;&nbsp;&nbsp;&nbsp;  `status` – статус прохождения урока <br>\n",
    "&nbsp;&nbsp;&nbsp;&nbsp;  `start_date` – дата начала <br> \n",
    "&nbsp;&nbsp;&nbsp;&nbsp; `finish_date` – дата окончания <br>\n",
    "<br><br>"
   ]
  },
  {
   "cell_type": "markdown",
   "metadata": {},
   "source": [
    "## 1. Описание и начальная работа с данными\n",
    "\n",
    "Вам необходимо подготовить данные и описать их. Данные реальные и содержат пропущенные значения, а также лишние относительно друг друга данные. <br>\n",
    "\n",
    "Объедините датасеты (кроме `students.scv`) в один общий для дальнейшей работы. Отдельный датасет создайте для расчета среднего возраста студентов курсов (отдельный датасет со `students.scv` нужен, чтобы в основном не потерять значения в основном датасете из-за того, что не по всем студентам есть анкетные данные о дате рождения). <br> <br>\n",
    "Опишите данные: <br>\n",
    "1. **(p)** Посчитайте\n",
    "      * общее количество курсов в датасете, \n",
    "      * количество модулей на каждом курсе, \n",
    "      * количество уроков в каждом модуле на каждом курсе, \n",
    "      * медианное количество уроков в модуле на каждом курсе, \n",
    "      * количество учеников на каждом курсе\n",
    "      * минимальный, максимальный, средний, медианный возраст студентов\n",
    "      * минимальный, максимальный, средний, медианный возраст студентов на каждом курсе\n",
    "2. **(m)** Постройте bar-chart, отражающий количество студентов на каждом курсе. Ticks нужно развернуть так, чтобы они были читаемы\n",
    "3. **(m)** Постройте горизонтальный (столбцы должны располагаться горизонтально) bar-chart, отражающий количество студентов на каждом курсе. График должен иметь заголовок. Значения должны быть отсортированы. Цвет столбцов должен содержать информацию о сфере, к которой относится курс (то есть нужна легенда). Прозрачность должна стоять на отметке 0.1. На график должна быть нанесена линия медианы. У медианы должен быть свой цвет. Рамки у графика быть не должно ⭐\n",
    "4.     На основании рассчитанных значений опишите данные (описание должно быть полным и покрывать все полученные выше метрики)\n",
    "\n",
    "_____________________________________________________________________\n"
   ]
  },
  {
   "cell_type": "code",
   "execution_count": 1,
   "metadata": {},
   "outputs": [],
   "source": [
    "# Импорт всех необходимых библиотек\n",
    "import pandas as pd\n",
    "import matplotlib.pyplot as plt\n",
    "import numpy as np\n",
    "\n",
    "%matplotlib inline"
   ]
  },
  {
   "cell_type": "code",
   "execution_count": 2,
   "metadata": {},
   "outputs": [],
   "source": [
    "# При помощи библиотеки pandas открываю все необходимые данные для создания\n",
    "# основного датасета\n",
    "course_contents = pd.read_csv('Coursework_data/course_contents.csv')\n",
    "progresses = pd.read_csv('Coursework_data/progresses.csv')\n",
    "courses = pd.read_csv('Coursework_data/courses.csv')\n",
    "progress_phases = pd.read_csv('Coursework_data/progress_phases.csv')"
   ]
  },
  {
   "cell_type": "code",
   "execution_count": 3,
   "metadata": {},
   "outputs": [
    {
     "name": "stdout",
     "output_type": "stream",
     "text": [
      "course_contents: course_id|module_number|module_title|lesson_number|lesson_title|lesson_token|is_video|is_homework\n",
      "progresses: id|student_id|course_id\n",
      "courses: Unnamed: 0|id|title|field\n",
      "progress_phases: progress_id|module_number|lesson_number|status|start_date|finish_date\n"
     ]
    }
   ],
   "source": [
    "# печатаю названия всех колонок с разных файлов, чтобы отпределить по каким столбцам их соединять\n",
    "print('course_contents:',\"|\".join(list(course_contents.columns)))\n",
    "print('progresses:',\"|\".join(list(progresses.columns)))\n",
    "print('courses:',\"|\".join(list(courses.columns)))\n",
    "print('progress_phases:',\"|\".join(list(progress_phases.columns)))"
   ]
  },
  {
   "cell_type": "code",
   "execution_count": 4,
   "metadata": {},
   "outputs": [
    {
     "data": {
      "text/plain": [
       "0      0\n",
       "1      1\n",
       "2      2\n",
       "3      3\n",
       "4      4\n",
       "5      5\n",
       "6      6\n",
       "7      7\n",
       "8      8\n",
       "9      9\n",
       "10    10\n",
       "11    11\n",
       "12    12\n",
       "13    13\n",
       "14    14\n",
       "Name: Unnamed: 0, dtype: int64"
      ]
     },
     "execution_count": 4,
     "metadata": {},
     "output_type": "execute_result"
    }
   ],
   "source": [
    "# нахожу странный столбец в таблице курсов\n",
    "courses['Unnamed: 0']"
   ]
  },
  {
   "cell_type": "code",
   "execution_count": 5,
   "metadata": {},
   "outputs": [],
   "source": [
    "# Удаляю его, так как он выполняет задачу порядкого номера\n",
    "del courses[courses.columns[0]]"
   ]
  },
  {
   "cell_type": "code",
   "execution_count": 6,
   "metadata": {},
   "outputs": [
    {
     "name": "stdout",
     "output_type": "stream",
     "text": [
      "course_contents: course_id|module_number|module_title|lesson_number|lesson_title|lesson_token|is_video|is_homework\n",
      "progresses: id|student_id|course_id\n",
      "courses: id|title|field\n",
      "progress_phases: progress_id|module_number|lesson_number|status|start_date|finish_date\n"
     ]
    }
   ],
   "source": [
    "# Проверяю колонки ещё раз\n",
    "print('course_contents:',\"|\".join(list(course_contents.columns)))\n",
    "print('progresses:',\"|\".join(list(progresses.columns)))\n",
    "print('courses:',\"|\".join(list(courses.columns)))\n",
    "print('progress_phases:',\"|\".join(list(progress_phases.columns)))"
   ]
  },
  {
   "cell_type": "code",
   "execution_count": null,
   "metadata": {},
   "outputs": [],
   "source": [
    "# Создаю новый датафрэйм и закладываю туда таблицы progress_phases и progresses, соеденённые по id пргресса\n",
    "main = pd.merge(left = progress_phases, right = progresses, left_on = 'progress_id', right_on = 'id', how = 'inner')\n",
    "# Удаляю колонку 'id' так как её функцию выполняет progress_id\n",
    "del main['id']\n",
    "main.head(10)"
   ]
  },
  {
   "cell_type": "code",
   "execution_count": null,
   "metadata": {},
   "outputs": [],
   "source": [
    "# Соединяю основной дата фрэйм с таблицей курсов по id\n",
    "main = pd.merge(left = main, right = courses, left_on = 'course_id', right_on = 'id', how = 'inner')\n",
    "# Так-же удаляю повторяющийся столбец\n",
    "del main['id']\n",
    "main.head()"
   ]
  },
  {
   "cell_type": "code",
   "execution_count": null,
   "metadata": {},
   "outputs": [],
   "source": [
    "# Переименовываю последние две колонки  прибовляя к ним 'course' чтобы не спутать с модулем\n",
    "columns = list(main.columns)\n",
    "columns[-2:] = list(map(lambda x: 'course_'+x, columns[-2:]))\n",
    "main.columns = columns\n",
    "main.head()"
   ]
  },
  {
   "cell_type": "code",
   "execution_count": null,
   "metadata": {},
   "outputs": [],
   "source": [
    "# Присоеденяю ещё одну таблицу по столбцу course_id\n",
    "main = main.merge(course_contents, how = 'inner')\n",
    "main"
   ]
  },
  {
   "cell_type": "code",
   "execution_count": null,
   "metadata": {},
   "outputs": [],
   "source": [
    "# Просматриваю информацию по итоговому датасету\n",
    "main.info()"
   ]
  },
  {
   "cell_type": "code",
   "execution_count": null,
   "metadata": {},
   "outputs": [],
   "source": [
    "# Количество курсов в датасете\n",
    "# Для этого я беру set*неповторяющийся список* из колонки course_id и считаю количество элементов в нём\n",
    "len(set(main['course_id']))"
   ]
  },
  {
   "cell_type": "code",
   "execution_count": null,
   "metadata": {},
   "outputs": [],
   "source": [
    "# Нахожу количество модулей в каждом курсе\n",
    "# Для этого оставляю от исходной таблицы только колонки с курсом и номером модуля\n",
    "# Группирую по названию курса и нахожу максимальный номер модуля на курсе\n",
    "main[['course_title','module_number']].groupby('course_title').agg('max')"
   ]
  },
  {
   "cell_type": "code",
   "execution_count": null,
   "metadata": {},
   "outputs": [],
   "source": [
    "# Создаю новый датафрэйм в который состоит из трёх столбцов основного.\n",
    "counted = main[['course_id', 'module_number', 'lesson_number']].copy()\n",
    "# Удаляю дубликаты\n",
    "counted = counted.drop_duplicates()\n",
    "# Группирую получившийся датафрэйм и нахожу количество уроков в каждом модуле в каждом курсе\n",
    "c = counted.groupby(['course_id', 'module_number']).agg('max')\n",
    "c.head()"
   ]
  },
  {
   "cell_type": "code",
   "execution_count": null,
   "metadata": {},
   "outputs": [],
   "source": [
    "# Группирую получившийся датафрэйм и нахожу медианное количество уроков для каждого курса\n",
    "c.groupby('course_id').agg('median')"
   ]
  },
  {
   "cell_type": "code",
   "execution_count": null,
   "metadata": {},
   "outputs": [],
   "source": [
    "# Снова создаю новую таблицу, состоящую из двух колонок основного датафрэйма\n",
    "counted = main[['student_id', 'course_title']].copy()\n",
    "# Удаляю повторяющиеся строки\n",
    "counted = counted.drop_duplicates()\n",
    "# Группирую по курсуам и для каждого нахожу количество учащихся\n",
    "counted = counted.groupby('course_title').agg(len)\n",
    "# Переименовываю получившийся столбец\n",
    "counted.columns = ['students_count']\n",
    "counted"
   ]
  },
  {
   "cell_type": "code",
   "execution_count": null,
   "metadata": {
    "scrolled": true
   },
   "outputs": [],
   "source": [
    "# Для следующего задания мне понадобится распоковать новый датафрэйм с информацией о студентах\n",
    "students = pd.read_csv('Coursework_data/students.csv')\n",
    "students"
   ]
  },
  {
   "cell_type": "code",
   "execution_count": null,
   "metadata": {},
   "outputs": [],
   "source": [
    "# Колонку с датами рождения сохраняю в отдельную переменную\n",
    "dates = students.birthday\n",
    "# Удаляю строки с неизвестными датами \n",
    "dates.dropna(inplace = True)\n",
    "# Преобразую в лист \n",
    "dates = list(dates)\n",
    "# Для работы с датами буду использвать библиотеку numpy\n",
    "# Сохроняю в переменную сегодняшнюю дату\n",
    "today = np.datetime64('today')\n",
    "ages = []\n",
    "# Перебираю все известные даты в списке дат рождения\n",
    "for i in dates:\n",
    "    # Нахожу разницу между текущей датой и датой рождения, и преобразую получившееся число в года\n",
    "    age = np.timedelta64(today - np.datetime64(i)).astype('m8[Y]')\n",
    "    # Преобразование в число\n",
    "    age = age.astype('int')\n",
    "    # Добавляю в лист возрост студента\n",
    "    ages += [age]\n",
    "# Нахожу минимиальный, максимальный, средний и медианный возрост в списке\n",
    "print('min:', min(ages))\n",
    "print('max:', max(ages))\n",
    "print('mean:', np.mean(ages))\n",
    "print('median:', np.median(ages))"
   ]
  },
  {
   "cell_type": "code",
   "execution_count": null,
   "metadata": {},
   "outputs": [],
   "source": [
    "# Создаю новый датафрэйм содержащий id студента и его дату рождения\n",
    "dates = students[['birthday', 'id']].copy()\n",
    "# Ещё один датасет с с датой рождения и возростом\n",
    "df = pd.DataFrame({\n",
    "    'birthday': list(students.birthday),\n",
    "    'Age': list(ages)\n",
    "})\n",
    "# Обьеденяю две созданные таблицы и удаляю повтаряющиеся строки\n",
    "df = df.merge(dates).drop_duplicates()\n",
    "# Соединяю получившийся датафрэйм с двумя колонками из главного\n",
    "df = df.merge(main[['student_id', 'course_title']].drop_duplicates(), left_on = 'id', right_on = 'student_id')\n",
    "# Удаляю ненужные столбцы\n",
    "del df['id']\n",
    "del df['birthday']\n",
    "# Группирую получившийся датафрэйм по курсам и нахожу\n",
    "# Минимальное, максимальное, среднее, медианное\n",
    "df.groupby(['course_title']).agg(['min', 'max', 'mean', 'median'])"
   ]
  },
  {
   "cell_type": "code",
   "execution_count": null,
   "metadata": {},
   "outputs": [],
   "source": [
    "# Рисую гистограмму ранее созданной таблицы\n",
    "plt.xticks(rotation = 90)\n",
    "plt.bar(counted.index, counted.students_count)\n",
    "plt.show()"
   ]
  },
  {
   "cell_type": "code",
   "execution_count": null,
   "metadata": {},
   "outputs": [],
   "source": [
    "counted"
   ]
  },
  {
   "cell_type": "code",
   "execution_count": null,
   "metadata": {},
   "outputs": [],
   "source": [
    "# Сортирую по количеству студентов в курсах по возростанию\n",
    "counted.sort_values('students_count', inplace = True, ascending = False)\n",
    "# Задаю размеры графика\n",
    "plt.figure(figsize = (16,11))\n",
    "# Перебираю все курсы\n",
    "for i in range(counted.index.size):\n",
    "    # Строю горизонтальную гистограмму\n",
    "    plt.barh(y = counted.index[i],width = counted.iloc[i].students_count,\n",
    "             # Указываю label для отображения в легенде, прозрачность и цвет для каждого столбика\n",
    "             # заполняется случайным образом\n",
    "             label = counted.index[i], alpha = 0.9, color = (1 - (i%5)/4,(i%4)/3,1 -((i*8)%9)/8))\n",
    "    pass\n",
    "# Рисую линию медианы\n",
    "plt.axvline(counted.students_count.median(),label = 'Median', linestyle = '--')\n",
    "# Указываю размер легенды\n",
    "plt.legend(fontsize = 12)\n",
    "\n",
    "# ПИшу значения для каждого столбика в гистограмме\n",
    "for i, val in enumerate(counted.students_count.values):\n",
    "    plt.annotate(val,(val,i), fontsize = 14)\n",
    "\n",
    "# Убираю рамки\n",
    "plt.axis('off')\n",
    "# Название графика\n",
    "plt.title('Количество учащихся на курсах', fontsize = 20)\n",
    "plt.show()"
   ]
  },
  {
   "cell_type": "markdown",
   "metadata": {},
   "source": [
    "## Ввыод\n",
    "    Итоговый Датафрэйм содержит 15 метрик, в 2-х из них находятсся булевые переменные, 2 - содержат целочисленные переменные, остальные метрики это обьекты содержащие идентификацию, название, некую дату и прочее. В таблице можно найти несколько видов идентификаторов: id студента, курса, изменения на курсе студентом, также порядковый номер модулей на каждом курсе и номер и id урока в каждом модуле. Можно заметить что один студент может проходить несколько курсов, также как и один курс могут проходить несколько студентов.\n",
    "    \n",
    "    Помимо id, в таблице присутствует русское название каждого курса, модуля и урока и к какуму типу относится курс. Булевые переменные хранят информацию о том, является ли урок домашним заданием и содержит ли он видео. Помимо прочего в таблице обозначено начало и конец действия студента на курсе, однако некоторые значения в столбце окончания действия отсутствуют.\n",
    "    \n",
    "    На курсах содержится от 8-ми до 21-го модуля и обучаются от 500-а до 2000 студентов. Даты рождений некоторых студентов указаны неверно, либо пропущены. "
   ]
  },
  {
   "cell_type": "markdown",
   "metadata": {},
   "source": [
    "## 2. Расчет потенциальной нагрузки на преподавателей\n",
    "\n",
    "1. **(p)** Рассчитать прирост студентов на каждом курсе в каждом месяце за всю историю (каждый месяц в диапазоне от марта 2016 до июля 2019 включительно). Считать дату начала прохождения курса студентом по дате начала первой домашней работы.\n",
    "2. **(m)** На основании первого пункта построить line-graph с приростом студентов в каждом месяце для каждого курса. 15 графиков. Графики должны иметь заголовки, оси должны быть подписаны. Ticks нужно развернуть так, чтобы они были читаемы.\n",
    "3. **(m)** На основании первого пункта построить line-graph с несколькими линиями, отражающими прирост студентов в каждом месяце для каждого курса. 15 линий на графике. Ticks нужно развернуть так, чтобы они были читаемы. График должен иметь заголовок. Ось, отражающая прирост, должна быть подписана. Линия для каждого курса должна иметь свой цвет (нужна легенда). Рамок у графика быть не должно ⭐\n",
    "4. **(p)** Рассчитать количество прогрессов по выполнению домашних работ в каждом месяце за всю историю (каждый месяц в диапазоне от марта 2016 до июля 2019 включительно) для каждого курса. Учитывать, что выполнение домашнего задания может перетекать из одного месяца в другой (такие дз надо включать в общее число прогрессов для всех месяцев, которые покрывает срок выполнения этих дз)\n",
    "5. **(m)** Построить line-graph по четвертому пункту. 15 графиков. Графики должны иметь заголовки, оси должны быть подписаны. Ticks нужно развернуть так, чтобы они были читаемы\n",
    "6. **(m)** Построить один line-graph для всех курсов по четвертому пункту. 15 линий на графике. Ticks нужно развернуть так, чтобы они были читаемы. График должен иметь заголовок. Ось, отражающая количество прогрессов, должна быть подписана. Линия для каждого курса должна иметь свой цвет (нужна легенда). Рамок у графика быть не должно ⭐\n",
    "7. На основании рассчитанных значений сделайте аналитический вывод (должен быть полным и покрывать все полученные выше метрики)"
   ]
  },
  {
   "cell_type": "code",
   "execution_count": null,
   "metadata": {},
   "outputs": [],
   "source": [
    "# Копирую из основной таблицы только нужные мне колонки\n",
    "df = main[['module_number','lesson_number','start_date','student_id','course_title','is_homework']].copy()\n",
    "df.head()"
   ]
  },
  {
   "cell_type": "code",
   "execution_count": null,
   "metadata": {},
   "outputs": [],
   "source": [
    "# Оставляю только те строки в которых данный урок является домашним заданием\n",
    "# И сортирую по дате начала выполнения задания\n",
    "df = df[df['is_homework']].sort_values('start_date')\n",
    "df"
   ]
  },
  {
   "cell_type": "code",
   "execution_count": null,
   "metadata": {},
   "outputs": [],
   "source": [
    "# Удаляю не нужные колонки в таблице\n",
    "df.drop(['module_number', 'lesson_number', 'is_homework'], axis = 'columns', inplace = True)\n",
    "# Применяю ко всем элементам столбца даты начала lambda функцию которой оставляю только год и месяц\n",
    "df['start_date'] = df['start_date'].apply(lambda x: \"-\".join(x.split('-')[:2]))\n",
    "# Оставляю первое вхождение студента и курса в таблицу, то-есть первое ДЗ на курсе для каждого учащегося\n",
    "df.drop_duplicates(['student_id', 'course_title'], inplace = True)\n",
    "df"
   ]
  },
  {
   "cell_type": "code",
   "execution_count": null,
   "metadata": {},
   "outputs": [],
   "source": [
    "# Удаляю колонку student_id за ненадобностью\n",
    "del df['student_id']\n",
    "# создаю столбец заполненный еденицей для подсчёта\n",
    "df['count'] = 1\n",
    "# Делаю удобное индексирование строк\n",
    "df.index = range(df.index.size)\n",
    "df.head()"
   ]
  },
  {
   "cell_type": "code",
   "execution_count": null,
   "metadata": {},
   "outputs": [],
   "source": [
    "# Создаю лист курсов\n",
    "l = list(set(df.course_title))"
   ]
  },
  {
   "cell_type": "code",
   "execution_count": null,
   "metadata": {},
   "outputs": [],
   "source": [
    "# Так как я буду работать со временем, то\n",
    "# мне понадобятся ограничения для временного промежутка\n",
    "start = np.datetime64('2016-03')\n",
    "end = np.datetime64('2019-07')\n",
    "# Я буду добавлять в конец датафрэйма, поэтому сохраняю индекс последнего элемента\n",
    "# в таблице\n",
    "ind = df.index.size\n",
    "# Перебираю все курсы \n",
    "for i in l:\n",
    "    # С помощью этой переменной буду идти от start до end\n",
    "    # С шагом в один месяц\n",
    "    k = start\n",
    "    # Сохраняю в лист все даты с данного курса\n",
    "    listt = list(df.loc[df.course_title == i].start_date)\n",
    "    # Пока не дошёл до end\n",
    "    while k != end:\n",
    "        # Если даты нет в списке, то нужно добавить её в таблицу\n",
    "        # И указать что в таком-то месяце учеников на данном курсе небыло(count = 0)\n",
    "        # Но нужно преобразовать переменную k в строку\n",
    "        if np.datetime_as_string(k) not in listt:\n",
    "            df.loc[ind] = [np.datetime_as_string(k), i, 0]\n",
    "            ind+=1\n",
    "            pass\n",
    "        k = k + np.timedelta64(1,'M')\n",
    "df"
   ]
  },
  {
   "cell_type": "code",
   "execution_count": null,
   "metadata": {},
   "outputs": [],
   "source": [
    "# Группирую полученный датасет по имени курса и дате начала\n",
    "# И для каждого месяца, каждого курса нахожу количество обучающихся людей\n",
    "df = df.groupby(['course_title', 'start_date']).agg('sum')\n",
    "df"
   ]
  },
  {
   "cell_type": "code",
   "execution_count": null,
   "metadata": {},
   "outputs": [],
   "source": [
    "# Задаю размеры рисунка\n",
    "fig = plt.figure(figsize = (20, 55))\n",
    "# Перебираю все курсы\n",
    "for ind, i in enumerate(l):\n",
    "    # Добаляю новый график в рисунок\n",
    "    fig.add_subplot(8,2,ind+1).plot(df.loc[i])\n",
    "    # Названия осей\n",
    "    plt.ylabel('Count')\n",
    "    plt.xlabel('Date')\n",
    "    # Установка названия графика\n",
    "    plt.title(i)\n",
    "    # Поворачиваю ticks для удобного чтения\n",
    "    # И устанавливаю удобный размер\n",
    "    plt.xticks(rotation = 70, fontsize = 12)\n",
    "# Установка расстояний между соседними графиками\n",
    "plt.subplots_adjust(wspace=0.1, hspace=0.5)\n",
    "plt.show()"
   ]
  },
  {
   "cell_type": "code",
   "execution_count": null,
   "metadata": {},
   "outputs": [],
   "source": [
    "# Создаю новый рисунок и устанавливаю его размеры\n",
    "fig, sbplt = plt.subplots(figsize = (20, 10))\n",
    "# Перебираю все курсы для отрисоки\n",
    "for ind, i in enumerate(l):\n",
    "    # Рисую график на рисунке с величеной линии равной 3 и произвольным цветом\n",
    "    sbplt.plot(df.loc[i], label = i, linewidth = 3, color = (1 - (ind%5)/4,(ind%4)/3,1 -((ind*8)%9)/8))\n",
    "# Установка названия рисунка\n",
    "plt.title('Прирост студентов на курсах', fontsize = 20)\n",
    "# Установка размера легенды\n",
    "plt.legend(fontsize = 14)\n",
    "# Подписываю вертикальную ось с указанным размером\n",
    "plt.ylabel('Количество студентов', fontsize = 12)\n",
    "# Поварачиваю ticks для читабельности с нужным мне размером\n",
    "plt.xticks(rotation = 45, fontsize = 11)\n",
    "# Убираю рамки: верхнюю, нижнюю, правую и левую\n",
    "plt.gca().spines[\"top\"].set_visible(False)    \n",
    "plt.gca().spines[\"bottom\"].set_visible(False)    \n",
    "plt.gca().spines[\"right\"].set_visible(False)    \n",
    "plt.gca().spines[\"left\"].set_visible(False)\n",
    "# Провожу для удобства линии значений по оси \"y\"\n",
    "sbplt.grid(axis = 'y')\n",
    "plt.show()"
   ]
  },
  {
   "cell_type": "code",
   "execution_count": null,
   "metadata": {},
   "outputs": [],
   "source": [
    "# Создаю новый датафрэйм в который копирую лишь некоторые столбцы из основного\n",
    "# Которые являются домашними заданиями и отсортированные по дате начала\n",
    "df = main[['progress_id','course_title', 'start_date', 'finish_date']].loc[main.is_homework].sort_values('start_date')\n",
    "# Заполняю пропуски последней известной датой\n",
    "df.fillna('2019-07', inplace = True)\n",
    "\n",
    "# Оставляю от дат только год и месяц\n",
    "f = lambda x: list(map(lambda y :\"-\".join(y.split('-')[:2]), x))\n",
    "df[['start_date', 'finish_date']] = df[['start_date', 'finish_date']].apply(f)\n",
    "# Удаляю из таблицы повтаряющиеся элементы\n",
    "# df.drop_duplicates(inplace = True)\n",
    "df"
   ]
  },
  {
   "cell_type": "code",
   "execution_count": null,
   "metadata": {},
   "outputs": [],
   "source": [
    "# Удаляю ненужный столбецц из таблицы\n",
    "del df['progress_id']"
   ]
  },
  {
   "cell_type": "code",
   "execution_count": null,
   "metadata": {},
   "outputs": [],
   "source": [
    "# Добавляю столбец заполненный еденицами для подсчёта\n",
    "df['count'] = 1\n",
    "df.head()"
   ]
  },
  {
   "cell_type": "code",
   "execution_count": null,
   "metadata": {},
   "outputs": [],
   "source": [
    "# Сортировка таблицы по дате начала\n",
    "df.sort_values('start_date', inplace  = True)\n",
    "# Группирую датасет и нахожу количество обучающихся за каждый месяц\n",
    "df = df.groupby(['course_title','start_date', 'finish_date']).agg('sum')\n",
    "df"
   ]
  },
  {
   "cell_type": "code",
   "execution_count": null,
   "metadata": {
    "scrolled": false
   },
   "outputs": [],
   "source": [
    "# В этом блоке я создаю словарь, в который\n",
    "# складываю для всех курсов, за все месяцы\n",
    "# сколько человек выполняло ДЗ\n",
    "ar = {}\n",
    "for i in df.index:\n",
    "    # Начало и конец выполнения ДЗ на курсе\n",
    "    start = np.datetime64(i[1])\n",
    "    end = np.datetime64(i[2])\n",
    "    k = start.copy()\n",
    "    # Перебираю все месяцы пока не дойду до последнего\n",
    "    while end >= k:\n",
    "        key = (i[0], np.datetime_as_string(k))\n",
    "        # Если для данного месяца в курсе не нахожу значения в словоре, то создаю его...\n",
    "        if key not in ar:\n",
    "            ar[key] = df.loc[i]['count']\n",
    "        else:\n",
    "            #...или же просто добавляю новое значение\n",
    "            ar[key] += df.loc[i]['count']\n",
    "        k += np.timedelta64(1, 'M')"
   ]
  },
  {
   "cell_type": "code",
   "execution_count": null,
   "metadata": {},
   "outputs": [],
   "source": [
    "# Формирую новый датафрэйм из полученного словоря\n",
    "# с тремя столбцами\n",
    "df = pd.DataFrame()\n",
    "df['title'] = [i[0] for i in ar.keys()]\n",
    "df['date'] = [i[1] for i in ar.keys()]\n",
    "df['count'] = [i for i in ar.values()]\n",
    "\n",
    "# Теперь мне нужно заполнить все месяцы, даже если их нет в таблице\n",
    "start = np.datetime64('2016-03')\n",
    "end = np.datetime64('2019-07')\n",
    "ind = df.index.size\n",
    "\n",
    "for i in l:\n",
    "    k = start.copy()\n",
    "    listt = list(df.loc[df.title == i].date)\n",
    "    while k < end:\n",
    "        if np.datetime_as_string(k) not in listt:\n",
    "            # Если нужной даты нет, то добавляем под данным курсом 0\n",
    "            df.loc[ind] = [i, np.datetime_as_string(k), 0]\n",
    "            ind+=1\n",
    "        k += np.timedelta64(1,'M')\n"
   ]
  },
  {
   "cell_type": "code",
   "execution_count": null,
   "metadata": {},
   "outputs": [],
   "source": [
    "# Сортирую датафрэйм по дате\n",
    "df.sort_values('date', inplace = True)\n",
    "df.head()"
   ]
  },
  {
   "cell_type": "code",
   "execution_count": null,
   "metadata": {},
   "outputs": [],
   "source": [
    "# Группирую по названию курса и дате и нахожу количество учеников для каждого месяца в интервале\n",
    "df = df.groupby(['title', 'date']).agg(sum)\n",
    "# Настриваю размеры фигуры\n",
    "fig = plt.figure(figsize = (20, 50))\n",
    "for ind, i in enumerate(l):\n",
    "    # Добавляю новый график\n",
    "    fig.add_subplot(8,2,ind+1).plot(df.loc[i])\n",
    "    # ПОдписываю график и оси\n",
    "    plt.title(i)\n",
    "    plt.ylabel('Count')\n",
    "    plt.xlabel('Date')\n",
    "    # Делаю ticks читабильными\n",
    "    plt.xticks(rotation = 70, fontsize = 12)\n",
    "#Регулеровка расстояния между графиками\n",
    "plt.subplots_adjust(wspace=0.1, hspace=0.4)\n",
    "plt.show()"
   ]
  },
  {
   "cell_type": "code",
   "execution_count": null,
   "metadata": {},
   "outputs": [],
   "source": [
    "fig, sbplt = plt.subplots(figsize = (20, 10))\n",
    "for ind, i in enumerate(l):\n",
    "    # Добавляю на график новую линию большего рзмера, произвольного размера\n",
    "    sbplt.plot(df.loc[i], label = i, linewidth = 4, color = (1 - (ind%5)/4,(ind%4)/3,1 -((ind*8)%9)/8,1))\n",
    "\n",
    "# Настраиваю название графика и осей, размер легенды и читабельность xticks\n",
    "plt.title('Количество выполненных домашек в разные месяцы', fontsize = 20)\n",
    "plt.ylabel('Количество домашек', fontsize = 13)\n",
    "plt.legend(fontsize = 14)\n",
    "plt.xticks(rotation = 45, fontsize = 11)\n",
    "\n",
    "#Убираю рамки\n",
    "plt.gca().spines[\"top\"].set_visible(False)    \n",
    "plt.gca().spines[\"bottom\"].set_visible(False)    \n",
    "plt.gca().spines[\"right\"].set_visible(False)    \n",
    "plt.gca().spines[\"left\"].set_visible(False)  \n",
    "#Рисую для удобства горизонтальные линии\n",
    "sbplt.grid(axis = 'y')\n",
    "plt.show()"
   ]
  },
  {
   "cell_type": "markdown",
   "metadata": {},
   "source": [
    "## Вывод\n",
    "По графику прироста студентов, можно заметить, что на большенстве курсов, число учащихся начинает рости с января 2018-го года. В период с марта 2016-го года, по январь 2018-го прирост студентов всех курсах равен или близок к нулю. Максимальный прирост студентов за всё время приходится на январь 2019-го года, курс - Веб-дизайн с нуля 2.0. Также, после апреля 2019-го года прирост начинает спадать по большинству курсов.\n",
    "\n",
    "Количество домашних заданий почти по всем курсам, уверенно росло с января 2018-го года по июнь 2019-го. До января 2018-го года это число было близко к нулю. Максимальное количество выполненных домашних работ наблюдается на курсе Интернет-маркетолог от Ingete в июне 2019-го."
   ]
  },
  {
   "cell_type": "markdown",
   "metadata": {},
   "source": [
    "## 3. Выявление проблемных модулей\n",
    "\n",
    "1. **(p)** Рассчитать минимальное, максимальное, среднее, медианное время прохождения каждого модуля (разность между временем начала и окончания выполнения домашней работы) для каждого курса. Если домашних заданий в модуле несколько, то считать разность между временем начала выполнения первой домашней работы и временем окончания выполнения последней домашней работы в модуле\n",
    "2. **(m)** На основании первого пункта построить line-graph с медианным временем прохождения каждого модуля для каждого курса. 15 графиков. Графики должны иметь заголовки\n",
    "3. **(p)**  Чтобы выявить сезонность, посчитать медианное время выполнения домашней работы по месяцам (12 месяцев, январь-декабрь) для каждого курса. \n",
    "4. **(m)** На основании третьего пункта построить line-graph, на который будут нанесены линии для каждого курса с медианным временем выполнения домашней работы по месяцам. 15 линий на графике. График должен иметь заголовок. Ось, отражающая время прохождения, должна быть подписана. Линия для каждого курса должна иметь свой цвет (нужна легенда). Рамок у графика быть не должно  ⭐\n",
    "5. На основании рассчитанных значений сделайте аналитический вывод (должен быть полным и покрывать все полученные выше метрики)"
   ]
  },
  {
   "cell_type": "code",
   "execution_count": null,
   "metadata": {
    "scrolled": true
   },
   "outputs": [],
   "source": [
    "# Создаю новый датасет с некоторыми столбцами из старого\n",
    "# Оставляю только строки отвечающие за домашку\n",
    "df = main[['course_title', 'start_date', 'finish_date',\n",
    "           'module_number', 'student_id']].loc[main['is_homework']].loc[main['status'] == 'done']\n",
    "df.fillna('2019-07-30 23:59', inplace = True)\n",
    "\n",
    "# Оставляю от дат дату и время\n",
    "f = lambda x: x[:16]\n",
    "df['start_date'] = df['start_date'].apply(f)\n",
    "df['finish_date'] = df['finish_date'].apply(f)\n",
    "df.drop_duplicates(inplace = True)# Удаляю дубликаты\n",
    "df.head()"
   ]
  },
  {
   "cell_type": "code",
   "execution_count": null,
   "metadata": {
    "scrolled": true
   },
   "outputs": [],
   "source": [
    "# Сначала нахожу сколько у каждого студента заняло время для выполнения ДЗ на модуле\n",
    "df['delta'] = df[['start_date', 'finish_date']].apply(lambda x: '|'.join(x), axis = 1)\n",
    "del df['start_date']\n",
    "del df['finish_date']\n",
    "df"
   ]
  },
  {
   "cell_type": "code",
   "execution_count": null,
   "metadata": {},
   "outputs": [],
   "source": [
    "# Группирую датафрэйм по и соединяю через черту время выполнения задания на курсе\n",
    "df = df.groupby(['course_title', 'module_number', 'student_id']).agg(lambda x: \"|\".join(x))"
   ]
  },
  {
   "cell_type": "code",
   "execution_count": null,
   "metadata": {},
   "outputs": [],
   "source": [
    "# Перевожу numpy.timedelta в числа, с точности до дней\n",
    "def f(x):\n",
    "    x = x.split('|')\n",
    "    first = np.datetime64(x[0])\n",
    "    last = np.datetime64(x[-1])\n",
    "    delta = last - first\n",
    "    return delta / np.timedelta64(1,'D')\n",
    "df['delta'] = df.delta.apply(f)\n",
    "df"
   ]
  },
  {
   "cell_type": "code",
   "execution_count": null,
   "metadata": {},
   "outputs": [],
   "source": [
    "# В этом блоке Я перевожу индексы в колонки\n",
    "a = np.array(list(df.index)).T\n",
    "df.index = range(df.index.size)\n",
    "df['course_title'] = a[0]\n",
    "df['module_number'] = a[1]\n",
    "df"
   ]
  },
  {
   "cell_type": "code",
   "execution_count": null,
   "metadata": {},
   "outputs": [],
   "source": [
    "# Группирую и нахожу искомые значения для времени\n",
    "df = df.groupby(['course_title', 'module_number']).agg(['min', 'max','mean', 'median'])\n",
    "df.head(20)"
   ]
  },
  {
   "cell_type": "code",
   "execution_count": null,
   "metadata": {},
   "outputs": [],
   "source": [
    "fig = plt.figure(figsize = (20, 50))\n",
    "for ind, i in enumerate(l):\n",
    "    # Рисую подстолбец медианы в столбце delta\n",
    "    fig.add_subplot(8,2,ind+1).plot(df.loc[i]['delta'][['median']])\n",
    "    plt.title(i)\n",
    "    # За ticks выступают номера модулей\n",
    "    plt.xticks(df.loc[i]['delta']['median'].index, fontsize = 12)\n",
    "plt.subplots_adjust(wspace=0.17, hspace=0.3)\n",
    "plt.show()"
   ]
  },
  {
   "cell_type": "code",
   "execution_count": null,
   "metadata": {},
   "outputs": [],
   "source": [
    "# Коппирую из основного датасета некоторые колонки\n",
    "df = main[['course_title', 'module_number',\n",
    "           'student_id', 'start_date', 'finish_date']].loc[main['is_homework']].loc[main['status'] == 'done']\n",
    "# Заполняю пустые значения датой сбора данных\n",
    "df.fillna('2019-07-30 23:59', inplace = True)\n",
    "\n",
    "f = lambda x: x[:16]\n",
    "df['start_date'] = df['start_date'].apply(f)\n",
    "df['finish_date'] = df['finish_date'].apply(f)\n",
    "df.drop_duplicates(inplace = True)"
   ]
  },
  {
   "cell_type": "code",
   "execution_count": null,
   "metadata": {},
   "outputs": [],
   "source": [
    "# Создаю колонку, где сохраняю разницу между концом и началом выполнения ДЗ студентом\n",
    "df['delta'] = df['start_date']+ \"|\" + df['finish_date']\n",
    "def f(x):\n",
    "    listt = x.split('|')\n",
    "    start = np.datetime64(listt[0])\n",
    "    end = np.datetime64(listt[1])\n",
    "    return np.timedelta64(end - start) / np.timedelta64(1,'D')\n",
    "df['delta'] = df.delta.apply(f)\n",
    "f = lambda x: x[:7]\n",
    "# От дат оставляю только год и месяц\n",
    "df['start_date'] = df['start_date'].apply(f)\n",
    "df['finish_date'] = df['finish_date'].apply(f)\n",
    "df"
   ]
  },
  {
   "cell_type": "code",
   "execution_count": null,
   "metadata": {},
   "outputs": [],
   "source": [
    "# Удаляю не нужные столбцы\n",
    "del df['module_number']\n",
    "del df['student_id']"
   ]
  },
  {
   "cell_type": "code",
   "execution_count": null,
   "metadata": {},
   "outputs": [],
   "source": [
    "# Группирую и нахожу вреям выполнения дз на каждом курсе в указанный интервал\n",
    "df = df.groupby(['course_title', 'start_date', 'finish_date']).agg('sum')\n",
    "df"
   ]
  },
  {
   "cell_type": "code",
   "execution_count": null,
   "metadata": {},
   "outputs": [],
   "source": [
    "# Перебираю все столбцы, от start_date до end_date и в указнный месяц\n",
    "# время потраченное на ДЗ\n",
    "a = np.array(list(df.index)).T\n",
    "delta = df.delta\n",
    "mas = []\n",
    "for i in range(a.shape[1]):\n",
    "    start = np.datetime64(a[1][i])\n",
    "    end = np.datetime64(a[2][i])\n",
    "    while start <= end:\n",
    "        mas += [[a[0][i], np.datetime_as_string(start), delta[i]]]\n",
    "        start += np.timedelta64(1, 'M')\n",
    "\n",
    "del df\n",
    "#Создаю новый датафрэйм с наименованием курса, месяца и времени\n",
    "a = np.array(mas).T\n",
    "df = pd.DataFrame({\n",
    "    'course_title': a[0],\n",
    "    'month': a[1],\n",
    "    'delta': a[2]\n",
    "})\n",
    "df"
   ]
  },
  {
   "cell_type": "code",
   "execution_count": null,
   "metadata": {},
   "outputs": [],
   "source": [
    "# Перевожу время в тип флоат\n",
    "df['delta'] = df['delta'].apply(float)"
   ]
  },
  {
   "cell_type": "code",
   "execution_count": null,
   "metadata": {},
   "outputs": [],
   "source": [
    "# Группирую по месяцам на каждом курсе и нахожу сумму для данного месяца\n",
    "df = df.groupby(['course_title', 'month']).agg('sum')\n",
    "df.head()"
   ]
  },
  {
   "cell_type": "code",
   "execution_count": null,
   "metadata": {},
   "outputs": [],
   "source": [
    "# Убираю из с столбца, в индексах обозначающих месяц, год\n",
    "a = np.array(list(df.index)).T\n",
    "delta = df.delta\n",
    "l = set(a[0])\n",
    "df = pd.DataFrame({\n",
    "    'course_title': a[0],\n",
    "    'month': [i[-2:] for i in a[1]],\n",
    "    'delta': delta\n",
    "})\n",
    "# В конечном итоге у меня остаётся курс и медианное значение для каждого месяца за все года\n",
    "df.index = range(df.index.size)\n",
    "df.sort_values('month', inplace = True)\n",
    "df = df.groupby(['course_title', 'month']).agg('median')\n",
    "df"
   ]
  },
  {
   "cell_type": "code",
   "execution_count": null,
   "metadata": {},
   "outputs": [],
   "source": [
    "# Для нормального отображения, я смещаю лист курсов на один\n",
    "# Установка размеров рисунка\n",
    "fig, sbplt = plt.subplots(figsize = (20, 10))\n",
    "for ind, i in enumerate(l):\n",
    "    # Перебираю все курсы и рисую линию на графике для каждого курса\n",
    "    # С величеной линии равной 4 и произвольным цветом \n",
    "    sbplt.plot(df.loc[i], label = i, linewidth = 4, color = (1 - (ind%5)/4,(ind%4)/3,1 -((ind*8)%9)/8,1))\n",
    "# Подписываю название графика, ось \"у\", устанавливаю легенду\n",
    "# Делаю xticks читабельными и убираю рамки у графика\n",
    "plt.title('Медианное время выполнения ДЗ по месяцам', fontsize = 20)\n",
    "plt.ylabel('Время потраченное на ДЗ в минутах', fontsize = 13)\n",
    "plt.legend(fontsize = 10, loc = 0)\n",
    "plt.xticks(rotation = 45, fontsize = 11)\n",
    "plt.gca().spines[\"top\"].set_visible(False)    \n",
    "plt.gca().spines[\"bottom\"].set_visible(False)    \n",
    "plt.gca().spines[\"right\"].set_visible(False)    \n",
    "plt.gca().spines[\"left\"].set_visible(False)\n",
    "#Рисую для удобства горизонтальные линии\n",
    "sbplt.grid(axis = 'y')\n",
    "plt.show()"
   ]
  },
  {
   "cell_type": "markdown",
   "metadata": {},
   "source": [
    "## Вывод\n",
    "Можно заметить что у больштнства курсов минимальное время прохождения курса равно нулю, и хотя максимальное, среднее и медианные значения не нулевые, но различаются они не сильно. По графикам зависимости времени прохождения от модуля на курсе, видно что чем дальше, тем дольше проходят курс студенты.\n",
    "\n",
    "По графику медианного времени прохождения курса по месяцам можно заметить, что в иле(7-й месяц) студенты тратили меньше времени на выполнение дз в модуле. Также, видно, что на каких-то курсах время тратится на много больше чем на других, слеовательно на некоторых курсах сложность домашних заданий в разы больше."
   ]
  },
  {
   "cell_type": "markdown",
   "metadata": {},
   "source": [
    "## 4. Расчет конверсии\n",
    "\n",
    "1. **(p)** Посчитать конверсию перехода студентов из одного модуля в другой на каждом курсе. Формула: отношение количества студентов, приступивших к выполнению домашнего задания в этом модуле (если дз в модуле несколько, то считать по первому дз в модуле), к количеству студентов, сдавших задание в предыдущем модуле (если дз в модуле несколько, то считать по последнему дз в модуле).\n",
    "2. **(m)** Постройте bar-chart, отражающий конверсию перехода студентов из одного модуля в другой на каждом курсе. График должен иметь заголовок. Ticks нужно развернуть так, чтобы они были читаемы\n",
    "3. **(m)** Постройте горизонтальный (столбцы должны располагаться горизонтально) bar-chart, отражающий конверсию перехода студентов из одного модуля в другой на каждом курсе. 15 графиков. Графики должны иметь заголовки. Ticks должны содержать номер и название модуля. Цвет столбцов графиков должен содержать информацию о сфере, к которой относится курс (нужна легенда). Прозрачность должна стоять на отметке 0.1. На графики должна быть нанесена линия медианы конверсии для каждого курса. У медианы должен быть свой цвет. Рамок у графиков быть не должно ⭐\n",
    "4. На основании рассчитанных значений сделайте аналитический вывод (должен быть полным и покрывать все полученные выше метрики)"
   ]
  },
  {
   "cell_type": "code",
   "execution_count": null,
   "metadata": {
    "scrolled": true
   },
   "outputs": [],
   "source": [
    "# Создаю новый датасет с некоторыми столбцами из старого\n",
    "# Оставляю только строки отвечающие за домашку\n",
    "df = main[main['is_homework']][['course_title', 'module_number', 'lesson_number', 'student_id', 'status']]\n",
    "df.drop_duplicates(inplace = True)"
   ]
  },
  {
   "cell_type": "code",
   "execution_count": null,
   "metadata": {},
   "outputs": [],
   "source": [
    "# Изменяю столбец стутуса в числовую переменную\n",
    "df['done'] = df['status'].apply(lambda x: 1 if x == 'done' else 0)\n",
    "# Добавляю новый столбец заполненный еденицами, так как все присутствующие начали выполнять ДЗ\n",
    "df['start'] = 1\n",
    "# Удаляю ненужные два столбца\n",
    "del df['student_id']\n",
    "del df['status']\n",
    "df.head()"
   ]
  },
  {
   "cell_type": "code",
   "execution_count": null,
   "metadata": {},
   "outputs": [],
   "source": [
    "# Группирую датафрэйм и нахожу количество выполнивших и количество начавших ДЗ\n",
    "# В каждом курсе, в каждом модуле и каждом модуле\n",
    "df = df.groupby(['course_title', 'module_number', 'lesson_number']).agg('sum')\n",
    "ar = {}\n",
    "for i in l:\n",
    "    # Перебираю все курсы\n",
    "    # Сохраняю все модули и уроки данного курса\n",
    "    course = list(map(list, list(df.loc[i].index)))\n",
    "    indexs = np.array(course).T # Транспонирую получившуюся матрицу\n",
    "    module = list(set(indexs[0])) # Сохраняю все уроки модулей\n",
    "    b = False\n",
    "    for j in range(1, 22):\n",
    "        # Так как максимальное количество модулей 21, то\n",
    "        # я перебираю все возможные модули и если его нет в модулях данного курса\n",
    "        # то пишу None\n",
    "        if j not in module:\n",
    "            ar[(i, j)] = None\n",
    "            continue\n",
    "        d = df.loc[i].loc[j]\n",
    "        if b and k[0] != 0:\n",
    "            ar[(i, j)] = d.iloc[0].start / k[0]\n",
    "        elif b:\n",
    "            # Флажок b указывает на то, что это первый модуль в курсе,\n",
    "            # и для него невозможно найти конверсию, тоже None\n",
    "            ar[(i, j)] = None\n",
    "        k = [d.iloc[-1].done, d.iloc[0].start]\n",
    "        b = True\n",
    "# ПРосматриваю первые 10 элементов\n",
    "list(ar.items())[:10]"
   ]
  },
  {
   "cell_type": "code",
   "execution_count": null,
   "metadata": {},
   "outputs": [],
   "source": [
    "# Создаю новый датафрэйм из получившегося словоря\n",
    "a = np.array(list(ar.keys())).T\n",
    "df = pd.DataFrame({\n",
    "    'title': a[0],\n",
    "    'module': a[1],\n",
    "    'koef': [i for i in ar.values()]\n",
    "})\n",
    "df.head()"
   ]
  },
  {
   "cell_type": "code",
   "execution_count": null,
   "metadata": {
    "scrolled": true
   },
   "outputs": [],
   "source": [
    "# Устанавливаю в индексы имя курса и номер модуля\n",
    "df.set_index(['title', 'module'], inplace = True)\n",
    "df.head()"
   ]
  },
  {
   "cell_type": "code",
   "execution_count": null,
   "metadata": {},
   "outputs": [],
   "source": [
    "# Устанавливаю размеры графика\n",
    "fig, sbplt = plt.subplots(figsize = (20, 10))\n",
    "for ind, i in enumerate(l):\n",
    "    # Перебираю все курсы\n",
    "    # И строю линию коэфицента на каждом из модулей, с шириной линии 4 и произвольным цветом\n",
    "    sbplt.bar(x = df.loc[i].index, height = df.loc[i].koef, label = i,\n",
    "              linewidth = 4, color = (1 - (ind%5)/4,(ind%4)/3,1 -((ind*8)%9)/8,1))\n",
    "    pass\n",
    "# Вывожу название графика, подписываю оси, и вывожу дегенду\n",
    "plt.title('Конвермия студентов на модулях в каждом курсе', fontsize = 20)\n",
    "plt.ylabel('Коэфицент конверсии', fontsize = 13)\n",
    "plt.xlabel('Номер модуля', fontsize = 13)\n",
    "plt.legend(fontsize = 10, loc = 1)\n",
    "#Рисую для удобства горизонтальные линии\n",
    "sbplt.grid(axis = 'y')\n",
    "plt.show()"
   ]
  },
  {
   "cell_type": "code",
   "execution_count": null,
   "metadata": {
    "scrolled": true
   },
   "outputs": [],
   "source": [
    "# Копирую из главного датафрэйма некоторые столбцы и удаляю повторяющиеся строки\n",
    "module = main[['course_title', 'module_number', 'module_title']].copy()\n",
    "module.drop_duplicates(inplace = True)\n",
    "# Ставлю за индексы название курса и носер модуля\n",
    "# Каждому номеру модулю в курсе соответствует название\n",
    "module.set_index(['course_title', 'module_number'], inplace = True)\n",
    "module.head()"
   ]
  },
  {
   "cell_type": "code",
   "execution_count": null,
   "metadata": {
    "scrolled": false
   },
   "outputs": [],
   "source": [
    "# Удаляю из датафрэйма строки с неизвестными значениями \n",
    "df.dropna(inplace = True)\n",
    "# Перебираю все курсы\n",
    "for ind, i in enumerate(l):\n",
    "    d = df.loc[i]\n",
    "    # Сохраняю номер и название модуля в переменную  \"d\"\n",
    "    fig = plt.figure(figsize = (15, 5))\n",
    "    # Создаю новый график и задаю его размеры\n",
    "    # Перебираю все модули\n",
    "    for j in range(d.index.size):\n",
    "        # Рисую столбик гистограммы\n",
    "        title = module.loc[i].loc[int(d.index[j])].module_title\n",
    "        plt.barh(y = d.index[j], width = d.koef[j], label = title,\n",
    "                 alpha = 0.9, color = (1 - (j%5)/4,(j%4)/3,1 -((j*8)%9)/8))\n",
    "    # Отрисовываю yticks и линию медианы\n",
    "    plt.yticks(d.index, rotation = 45, fontsize = 12)\n",
    "    plt.axvline(df.loc[i].koef.median(),label = 'Median', linewidth = 4,\n",
    "                linestyle = '--', color = (1 - (ind%5)/4,(ind%4)/3,1 -((ind*8)%9)/8))\n",
    "    # Пишу название графика и отрисовываю горизонтальные линии значений\n",
    "    plt.title(i, fontsize = 20)\n",
    "    plt.grid(axis = 'x')\n",
    "    # Убираю рамки графика\n",
    "    plt.gca().spines[\"top\"].set_visible(False)\n",
    "    plt.gca().spines[\"bottom\"].set_visible(False)    \n",
    "    plt.gca().spines[\"right\"].set_visible(False)\n",
    "    plt.gca().spines[\"left\"].set_visible(False)\n",
    "    # Устанавливаю легенду\n",
    "    plt.legend()\n",
    "plt.show()"
   ]
  }
 ],
 "metadata": {
  "kernelspec": {
   "display_name": "Python 3",
   "language": "python",
   "name": "python3"
  },
  "language_info": {
   "codemirror_mode": {
    "name": "ipython",
    "version": 3
   },
   "file_extension": ".py",
   "mimetype": "text/x-python",
   "name": "python",
   "nbconvert_exporter": "python",
   "pygments_lexer": "ipython3",
   "version": "3.7.3"
  }
 },
 "nbformat": 4,
 "nbformat_minor": 2
}
