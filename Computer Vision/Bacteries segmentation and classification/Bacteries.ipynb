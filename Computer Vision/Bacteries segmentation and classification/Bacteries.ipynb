{
  "nbformat": 4,
  "nbformat_minor": 0,
  "metadata": {
    "kernelspec": {
      "display_name": "Python 3",
      "language": "python",
      "name": "python3"
    },
    "language_info": {
      "codemirror_mode": {
        "name": "ipython",
        "version": 3
      },
      "file_extension": ".py",
      "mimetype": "text/x-python",
      "name": "python",
      "nbconvert_exporter": "python",
      "pygments_lexer": "ipython3",
      "version": "3.7.6"
    },
    "colab": {
      "name": "Bacteries.ipynb",
      "provenance": [],
      "collapsed_sections": []
    },
    "accelerator": "GPU"
  },
  "cells": [
    {
      "cell_type": "markdown",
      "metadata": {
        "id": "h9h4bQQw3zWO"
      },
      "source": [
        "# ITS"
      ]
    },
    {
      "cell_type": "markdown",
      "metadata": {
        "id": "Adzy1JZG3zWP"
      },
      "source": [
        "### Импорт всех необходимых библиотек"
      ]
    },
    {
      "cell_type": "code",
      "metadata": {
        "id": "XhnFx6m23zWQ"
      },
      "source": [
        "import numpy as np\n",
        "import base64\n",
        "import pandas as pd\n",
        "from matplotlib import pyplot as plt\n",
        "import tensorflow as tf\n",
        "from tensorflow.keras.preprocessing.image import ImageDataGenerator\n",
        "from tensorflow.keras.layers import Conv2D, Conv2DTranspose, Dense, GlobalAveragePooling2D, MaxPool2D, Dropout, Flatten, AveragePooling2D\n",
        "from tensorflow.keras.models import Sequential\n",
        "import PIL.ImageDraw as ImageDraw\n",
        "import PIL.Image as Image\n",
        "from sklearn.preprocessing import StandardScaler\n",
        "import os\n",
        "\n",
        "W = 640\n",
        "H = 512\n",
        "\n",
        "%matplotlib inline"
      ],
      "execution_count": null,
      "outputs": []
    },
    {
      "cell_type": "code",
      "metadata": {
        "id": "xr6WovJB5wex",
        "colab": {
          "base_uri": "https://localhost:8080/",
          "height": 126
        },
        "outputId": "e82fd9be-8a01-4a5b-9dd4-a9a279a8627f"
      },
      "source": [
        "from google.colab import drive\n",
        "drive.mount('/content/drive')"
      ],
      "execution_count": null,
      "outputs": [
        {
          "output_type": "stream",
          "text": [
            "Go to this URL in a browser: https://accounts.google.com/o/oauth2/auth?client_id=947318989803-6bn6qk8qdgf4n4g3pfee6491hc0brc4i.apps.googleusercontent.com&redirect_uri=urn%3aietf%3awg%3aoauth%3a2.0%3aoob&response_type=code&scope=email%20https%3a%2f%2fwww.googleapis.com%2fauth%2fdocs.test%20https%3a%2f%2fwww.googleapis.com%2fauth%2fdrive%20https%3a%2f%2fwww.googleapis.com%2fauth%2fdrive.photos.readonly%20https%3a%2f%2fwww.googleapis.com%2fauth%2fpeopleapi.readonly\n",
            "\n",
            "Enter your authorization code:\n",
            "··········\n",
            "Mounted at /content/drive\n"
          ],
          "name": "stdout"
        }
      ]
    },
    {
      "cell_type": "markdown",
      "metadata": {
        "id": "wBuWdxSC3zWW"
      },
      "source": [
        "## Задача сегментации"
      ]
    },
    {
      "cell_type": "markdown",
      "metadata": {
        "id": "7A8SEind3zWX"
      },
      "source": [
        "### Создание масок для обучения"
      ]
    },
    {
      "cell_type": "code",
      "metadata": {
        "id": "Z3YzKV7g3zWY",
        "colab": {
          "base_uri": "https://localhost:8080/",
          "height": 50
        },
        "outputId": "a7c46519-330d-49b7-88d8-5afdec9777de"
      },
      "source": [
        "files = os.listdir('/content/drive/My Drive/test/test/')\n",
        "print(len(files))\n",
        "files[:5]"
      ],
      "execution_count": null,
      "outputs": [
        {
          "output_type": "stream",
          "text": [
            "107\n"
          ],
          "name": "stdout"
        },
        {
          "output_type": "execute_result",
          "data": {
            "text/plain": [
              "['002.png', '017.png', '016.png', '003.png', '029.png']"
            ]
          },
          "metadata": {
            "tags": []
          },
          "execution_count": 23
        }
      ]
    },
    {
      "cell_type": "code",
      "metadata": {
        "scrolled": false,
        "id": "N71wOBMb3zWf"
      },
      "source": [
        "for i in files:\n",
        "    print(i[:3], '...', sep = '',end=' ')\n",
        "    image = Image.open('/content/drive/My Drive/test/test/'+i).convert('L')\n",
        "    image.save('/content/drive/My Drive/test/test/'+i)\n",
        "    print('Done!')"
      ],
      "execution_count": null,
      "outputs": []
    },
    {
      "cell_type": "markdown",
      "metadata": {
        "id": "RBKRXllO3zWj"
      },
      "source": [
        "### Создание генераторов для задачи сегментации"
      ]
    },
    {
      "cell_type": "code",
      "metadata": {
        "id": "4g5IvAud3zWl",
        "colab": {
          "base_uri": "https://localhost:8080/",
          "height": 50
        },
        "outputId": "cb8d0432-3b36-4832-b68d-2b07cf2caccf"
      },
      "source": [
        "aug = ImageDataGenerator(\n",
        "    rescale=1/255,\n",
        "    horizontal_flip=True,\n",
        "    vertical_flip=True\n",
        ")\n",
        "X_train = aug.flow_from_directory(\n",
        "    directory='/content/drive/My Drive/train/',\n",
        "    class_mode='binary',\n",
        "    color_mode = 'grayscale',\n",
        "    batch_size = 261,\n",
        "    target_size=(H, W),\n",
        "    seed=50\n",
        ")\n",
        "\n",
        "y_train = aug.flow_from_directory(\n",
        "    directory='/content/drive/My Drive/train_mask/',\n",
        "    class_mode='binary',\n",
        "    color_mode = 'grayscale',\n",
        "    batch_size = 261,\n",
        "    target_size=(H, W),\n",
        "    seed=50\n",
        ")"
      ],
      "execution_count": null,
      "outputs": [
        {
          "output_type": "stream",
          "text": [
            "Found 261 images belonging to 1 classes.\n",
            "Found 261 images belonging to 1 classes.\n"
          ],
          "name": "stdout"
        }
      ]
    },
    {
      "cell_type": "markdown",
      "metadata": {
        "id": "fGniJJdb3zWp"
      },
      "source": [
        "### Выгрузка изображений в оперативную память"
      ]
    },
    {
      "cell_type": "code",
      "metadata": {
        "id": "MRrRKr9D3zWq",
        "colab": {
          "base_uri": "https://localhost:8080/",
          "height": 118
        },
        "outputId": "abe01508-816a-4ea1-e3c0-4134a94e5e6c"
      },
      "source": [
        "for i in range(3):\n",
        "    print(i,'...', sep = '', end=' ')\n",
        "    if i==0:\n",
        "        X = X_train.next()[0]\n",
        "        y = y_train.next()[0]\n",
        "    else:\n",
        "        X = np.append(X, X_train.next()[0], axis = 0)\n",
        "        y = np.append(y, y_train.next()[0], axis = 0)\n",
        "    print('Complete')\n",
        "    print(X.shape)"
      ],
      "execution_count": null,
      "outputs": [
        {
          "output_type": "stream",
          "text": [
            "0... Complete\n",
            "(261, 512, 640, 1)\n",
            "1... Complete\n",
            "(522, 512, 640, 1)\n",
            "2... Complete\n",
            "(783, 512, 640, 1)\n"
          ],
          "name": "stdout"
        }
      ]
    },
    {
      "cell_type": "markdown",
      "metadata": {
        "id": "aIjN80Wo3zWw"
      },
      "source": [
        "### Проверка на соответствие масок изображениям"
      ]
    },
    {
      "cell_type": "code",
      "metadata": {
        "id": "nC3maSv73zWx",
        "colab": {
          "base_uri": "https://localhost:8080/",
          "height": 521
        },
        "outputId": "bfa05020-4775-46e7-ef90-b117c358f564"
      },
      "source": [
        "plt.imshow(X[50][:,:,0], cmap='gray')\n",
        "plt.show()\n",
        "plt.imshow(y[50][:,:,0], cmap='gray')\n",
        "plt.show()"
      ],
      "execution_count": null,
      "outputs": [
        {
          "output_type": "display_data",
          "data": {
            "image/png": "[encoded data removed]",
            "text/plain": [
              "<Figure size 432x288 with 1 Axes>"
            ]
          },
          "metadata": {
            "tags": [],
            "needs_background": "light"
          }
        },
        {
          "output_type": "display_data",
          "data": {
            "image/png": "[encoded data removed]",
            "text/plain": [
              "<Figure size 432x288 with 1 Axes>"
            ]
          },
          "metadata": {
            "tags": [],
            "needs_background": "light"
          }
        }
      ]
    },
    {
      "cell_type": "markdown",
      "metadata": {
        "id": "06J8Lgv63zW3"
      },
      "source": [
        "### Распределение значений на изображении"
      ]
    },
    {
      "cell_type": "code",
      "metadata": {
        "id": "sgQ-0so63zW3",
        "colab": {
          "base_uri": "https://localhost:8080/",
          "height": 265
        },
        "outputId": "a028ec2b-f4fb-4917-fc3f-085f45fbdf44"
      },
      "source": [
        "plt.hist(X[0].flatten())\n",
        "plt.show()"
      ],
      "execution_count": null,
      "outputs": [
        {
          "output_type": "display_data",
          "data": {
            "image/png": "[encoded data removed]",
            "text/plain": [
              "<Figure size 432x288 with 1 Axes>"
            ]
          },
          "metadata": {
            "tags": [],
            "needs_background": "light"
          }
        }
      ]
    },
    {
      "cell_type": "markdown",
      "metadata": {
        "id": "TbUXA0133zW7"
      },
      "source": [
        "### Нормализируем входные данные\n",
        "С помощью библиотеки `sklearn`"
      ]
    },
    {
      "cell_type": "code",
      "metadata": {
        "id": "5nIl34E-3zW8"
      },
      "source": [
        "X = X[:, :, :, 0]\n",
        "for i, item in enumerate(X):\n",
        "    X[i] = StandardScaler().fit_transform(item)\n",
        "X = X[:, :, :, None]"
      ],
      "execution_count": null,
      "outputs": []
    },
    {
      "cell_type": "code",
      "metadata": {
        "id": "bi2UfVIN3zXB",
        "colab": {
          "base_uri": "https://localhost:8080/",
          "height": 265
        },
        "outputId": "ba304962-eb8d-4bc3-df1e-81c0af7c123a"
      },
      "source": [
        "plt.hist(X[0].flatten())\n",
        "plt.show()"
      ],
      "execution_count": null,
      "outputs": [
        {
          "output_type": "display_data",
          "data": {
            "image/png": "[encoded data removed]",
            "text/plain": [
              "<Figure size 432x288 with 1 Axes>"
            ]
          },
          "metadata": {
            "tags": [],
            "needs_background": "light"
          }
        }
      ]
    },
    {
      "cell_type": "code",
      "metadata": {
        "id": "U-4LoJBN3zXF",
        "colab": {
          "base_uri": "https://localhost:8080/",
          "height": 269
        },
        "outputId": "bd6688ea-1709-4297-cc5e-44114be23f69"
      },
      "source": [
        "plt.imshow(X[50][:, :, 0], cmap='gray')\n",
        "plt.show()"
      ],
      "execution_count": null,
      "outputs": [
        {
          "output_type": "display_data",
          "data": {
            "image/png": "[encoded data removed]",
            "text/plain": [
              "<Figure size 432x288 with 1 Axes>"
            ]
          },
          "metadata": {
            "tags": [],
            "needs_background": "light"
          }
        }
      ]
    },
    {
      "cell_type": "markdown",
      "metadata": {
        "id": "cvbIhcnx3zXK"
      },
      "source": [
        "### Создание модели"
      ]
    },
    {
      "cell_type": "code",
      "metadata": {
        "id": "r3-0AmJJ3zXL"
      },
      "source": [
        "def build_model():\n",
        "    x = tf.keras.layers.Input((H, W, 1))\n",
        "\n",
        "    out = Conv2D(32, (3, 3), padding='same', activation = 'relu')(x)\n",
        "    out1 = Conv2D(32, (3, 3), padding='same', activation = 'relu')(out)\n",
        "\n",
        "    out = Conv2D(64, (3, 3), padding='same', strides=(2, 2), activation = 'relu')(out1)\n",
        "    out2 = Conv2D(64, (3, 3), padding='same', activation = 'relu')(out)\n",
        "    \n",
        "    out = Conv2D(128, (3, 3), padding='same', strides=(2, 2), activation = 'relu')(out2)\n",
        "    out3 = Conv2D(128, (3, 3), padding = 'same', activation = 'relu')(out)\n",
        "\n",
        "    out = Conv2D(256, (3, 3), padding='same', strides=(2, 2), activation = 'relu')(out3)\n",
        "    out = Conv2D(256, (3, 3), padding = 'same', activation = 'relu')(out)\n",
        "\n",
        "    out = Conv2DTranspose(128, (3, 3), padding='same', strides=(2, 2), activation = 'relu')(out)\n",
        "    out = tf.concat([out, out3], axis = 3)\n",
        "    out = Conv2D(128, (3, 3), padding='same', activation = 'relu')(out)\n",
        "\n",
        "    out = Conv2DTranspose(64, (3, 3), padding='same', strides=(2, 2), activation = 'relu')(out)\n",
        "    out = tf.concat([out, out2], axis = 3)\n",
        "    out = Conv2D(64, (3, 3), padding='same', activation = 'relu')(out)\n",
        "\n",
        "    out = Conv2DTranspose(32, (3, 3), padding='same', strides=(2, 2), activation = 'relu')(out)\n",
        "    out = tf.concat([out, out1], axis = 3)\n",
        "    out = Conv2D(32, (3, 3), padding='same', activation='relu')(out)\n",
        "\n",
        "    out = Conv2D(1, (1, 1), padding='same', activation='sigmoid')(out)\n",
        "    \n",
        "    return tf.keras.Model(inputs=x, outputs=out)\n",
        "model = build_model()"
      ],
      "execution_count": null,
      "outputs": []
    },
    {
      "cell_type": "code",
      "metadata": {
        "id": "uK2Wx3ix3zXR"
      },
      "source": [
        "NUM_EPOCHS = 15\n",
        "BATCH_SIZE = 1\n",
        "\n",
        "loss = tf.keras.losses.BinaryCrossentropy()\n",
        "precision = tf.keras.metrics.Precision()\n",
        "recall = tf.keras.metrics.Recall()\n",
        "model.compile(optimizer='adam', loss = loss, metrics = [precision, recall, 'accuracy'])\n",
        "\n",
        "hist = model.fit(X, y, batch_size=BATCH_SIZE,\n",
        "                 epochs=NUM_EPOCHS,\n",
        "                 validation_split=0.2)"
      ],
      "execution_count": null,
      "outputs": []
    },
    {
      "cell_type": "markdown",
      "metadata": {
        "id": "l9tkpfiO3zXV"
      },
      "source": [
        "### Отрисовка статистики результатов обучения"
      ]
    },
    {
      "cell_type": "code",
      "metadata": {
        "id": "b273qnQ23zXW",
        "colab": {
          "base_uri": "https://localhost:8080/",
          "height": 761
        },
        "outputId": "ae4edd09-a553-431f-d572-69ee45b42134"
      },
      "source": [
        "plt.plot(hist.history['loss'], label='train_loss')\n",
        "plt.plot(hist.history['val_loss'], label='valid_loss')\n",
        "plt.legend()\n",
        "plt.show()\n",
        "plt.plot(hist.history['precision_1'], label='train_precision')\n",
        "plt.plot(hist.history['val_precision_1'], label='valid_precision')\n",
        "plt.legend()\n",
        "plt.show()\n",
        "plt.plot(hist.history['accuracy'], label='train_accuracy')\n",
        "plt.plot(hist.history['val_accuracy'], label='valid_accuracy')\n",
        "plt.legend()\n",
        "plt.show()"
      ],
      "execution_count": null,
      "outputs": [
        {
          "output_type": "display_data",
          "data": {
            "image/png": "[encoded data removed]",
            "text/plain": [
              "<Figure size 432x288 with 1 Axes>"
            ]
          },
          "metadata": {
            "tags": [],
            "needs_background": "light"
          }
        },
        {
          "output_type": "display_data",
          "data": {
            "image/png": "[encoded data removed]",
            "text/plain": [
              "<Figure size 432x288 with 1 Axes>"
            ]
          },
          "metadata": {
            "tags": [],
            "needs_background": "light"
          }
        },
        {
          "output_type": "display_data",
          "data": {
            "image/png": "[encoded data removed]",
            "text/plain": [
              "<Figure size 432x288 with 1 Axes>"
            ]
          },
          "metadata": {
            "tags": [],
            "needs_background": "light"
          }
        }
      ]
    },
    {
      "cell_type": "code",
      "metadata": {
        "id": "k12-kwsPzWF1"
      },
      "source": [
        "hist += model.fit(X, y, batch_size=BATCH_SIZE,\n",
        "                 epochs=1,\n",
        "                 validation_split=0.2)"
      ],
      "execution_count": null,
      "outputs": []
    },
    {
      "cell_type": "code",
      "metadata": {
        "id": "F3X08lj1z-52",
        "colab": {
          "base_uri": "https://localhost:8080/",
          "height": 138
        },
        "outputId": "5a64ec98-d65a-47a4-d709-524c4b3cad07"
      },
      "source": [
        "hist = model.fit(X, y, batch_size=1,\n",
        "                 epochs=3,\n",
        "                 validation_split=0.2)"
      ],
      "execution_count": null,
      "outputs": [
        {
          "output_type": "stream",
          "text": [
            "Epoch 1/3\n",
            "626/626 [==============================] - 53s 85ms/step - loss: 0.0037 - precision_1: 0.9593 - recall_1: 0.9549 - accuracy: 0.9985 - val_loss: 0.0060 - val_precision_1: 0.9580 - val_recall_1: 0.9346 - val_accuracy: 0.9980\n",
            "Epoch 2/3\n",
            "626/626 [==============================] - 52s 83ms/step - loss: 0.0034 - precision_1: 0.9614 - recall_1: 0.9580 - accuracy: 0.9985 - val_loss: 0.0055 - val_precision_1: 0.9550 - val_recall_1: 0.9439 - val_accuracy: 0.9981\n",
            "Epoch 3/3\n",
            "626/626 [==============================] - 52s 84ms/step - loss: 0.0051 - precision_1: 0.9526 - recall_1: 0.9430 - accuracy: 0.9981 - val_loss: 0.0079 - val_precision_1: 0.9423 - val_recall_1: 0.9066 - val_accuracy: 0.9972\n"
          ],
          "name": "stdout"
        }
      ]
    },
    {
      "cell_type": "code",
      "metadata": {
        "id": "AFDpGftU7skF"
      },
      "source": [
        "model.save('/content/drive/My Drive/best_model15.h5')"
      ],
      "execution_count": null,
      "outputs": []
    },
    {
      "cell_type": "markdown",
      "metadata": {
        "id": "btloeRB9hV0L"
      },
      "source": [
        "## Задача классификации"
      ]
    },
    {
      "cell_type": "markdown",
      "metadata": {
        "id": "-Cp3cwQphqRa"
      },
      "source": [
        "### Разделение исходных данных по классам"
      ]
    },
    {
      "cell_type": "code",
      "metadata": {
        "id": "G8nCHrnT60iU",
        "colab": {
          "base_uri": "https://localhost:8080/",
          "height": 50
        },
        "outputId": "d8597ea3-25c5-42dd-da5f-c271c6b487b6"
      },
      "source": [
        "files = os.listdir('/content/drive/My Drive/train/train/')\n",
        "files = np.sort([i for i in files if '.json' in i])\n",
        "train_size = len(files)\n",
        "files[:5]"
      ],
      "execution_count": null,
      "outputs": [
        {
          "output_type": "execute_result",
          "data": {
            "text/plain": [
              "array(['001.json', '002.json', '003.json', '004.json', '005.json'],\n",
              "      dtype='<U8')"
            ]
          },
          "metadata": {
            "tags": []
          },
          "execution_count": 6
        }
      ]
    },
    {
      "cell_type": "code",
      "metadata": {
        "id": "y9YeloXSvrwL"
      },
      "source": [
        "path = '/content/drive/My Drive/'\n",
        "os.mkdir(path + 'train_classific')\n",
        "for i in files:\n",
        "    image = Image.open(path + 'train/train/' + i[:3] + '.png')\n",
        "    data = pd.read_json(path + 'train/train/' + i)\n",
        "    label = data.iloc[0]['shapes']['label']\n",
        "    if not os.path.exists(path + 'train_classific/'+label+'/'):\n",
        "      os.mkdir(path + 'train_classific/'+label+'/')\n",
        "    image.save(path + 'train_classific/' + label + '/' + i[:3]+ '.png')"
      ],
      "execution_count": null,
      "outputs": []
    },
    {
      "cell_type": "code",
      "metadata": {
        "id": "L4kL9AAm7U24"
      },
      "source": [
        "path = '/content/drive/My Drive/'\n",
        "for num, i in enumerate(files):\n",
        "    print(num,'...', sep='', end = ' ')\n",
        "    image = Image.open(path + 'train/train/' + i[:3] + '.png').convert('L')\n",
        "    mask = Image.open(path + 'train_mask/train_mask/' + i[:3] + '.png').convert('L')\n",
        "    \n",
        "    image = np.array(image)\n",
        "    mask = np.array(mask)\n",
        "    image[image>mask] = 255\n",
        "\n",
        "    data = pd.read_json(path + 'train/train/' + i)\n",
        "    label = data.iloc[0]['shapes']['label']\n",
        "    if not os.path.exists(path + 'classification/'+label+'/'):\n",
        "      os.mkdir(path + 'classification/'+label+'/')\n",
        "    Image.fromarray(image).save(path + 'classification/' + label + '/' + i[:3]+ '.png')\n",
        "    print('Done!')"
      ],
      "execution_count": null,
      "outputs": []
    },
    {
      "cell_type": "markdown",
      "metadata": {
        "id": "bGmlk8OTb6T7"
      },
      "source": [
        "### Создание генераора для задачи классификации"
      ]
    },
    {
      "cell_type": "code",
      "metadata": {
        "id": "Fui3J1naXINn",
        "colab": {
          "base_uri": "https://localhost:8080/",
          "height": 53
        },
        "outputId": "84dfd986-b76b-4d09-87b5-3875174be4e0"
      },
      "source": [
        "aug = ImageDataGenerator(\n",
        "    rescale=1./255,\n",
        "    horizontal_flip=True,\n",
        "    vertical_flip=True\n",
        ")\n",
        "\n",
        "X_train = aug.flow_from_directory(\n",
        "    directory='/content/drive/My Drive/dataset_its/train_classific',\n",
        "    class_mode='categorical',\n",
        "    color_mode = 'grayscale',\n",
        "    batch_size = 261,\n",
        "    target_size=(H, W),\n",
        "    seed=50\n",
        ")\n",
        "\n",
        "Xhelper_train = aug.flow_from_directory(\n",
        "    directory='/content/drive/My Drive/dataset_its/train_masks',\n",
        "    class_mode='binary',\n",
        "    color_mode = 'grayscale',\n",
        "    batch_size = 261,\n",
        "    target_size=(H, W),\n",
        "    seed=50\n",
        ")"
      ],
      "execution_count": null,
      "outputs": [
        {
          "output_type": "stream",
          "text": [
            "Found 261 images belonging to 6 classes.\n",
            "Found 261 images belonging to 1 classes.\n"
          ],
          "name": "stdout"
        }
      ]
    },
    {
      "cell_type": "markdown",
      "metadata": {
        "id": "Mnc2hjsvcljF"
      },
      "source": [
        "### Выгрузка изображений в оперативную память"
      ]
    },
    {
      "cell_type": "code",
      "metadata": {
        "id": "gcNE0pr8cUiR",
        "colab": {
          "base_uri": "https://localhost:8080/",
          "height": 88
        },
        "outputId": "a34b45d3-7054-46f6-9f16-3418a6844b5c"
      },
      "source": [
        "X = []\n",
        "Xhelper = []\n",
        "y = []\n",
        "\n",
        "for i in range(2):\n",
        "    print(i,'...', sep = '', end=' ')\n",
        "    train = X_train.next()\n",
        "    helper_train = Xhelper_train.next()\n",
        "    if i==0:\n",
        "        X = train[0]\n",
        "        y = train[1]\n",
        "        Xhelper = helper_train[0]\n",
        "    else:\n",
        "        X = np.append(X, train[0], axis = 0)\n",
        "        y = np.append(y, train[1], axis = 0)\n",
        "        Xhelper = np.append(Xhelper, helper_train[0], axis = 0)\n",
        "    print('Complete')\n",
        "    print(X.shape)"
      ],
      "execution_count": null,
      "outputs": [
        {
          "output_type": "stream",
          "text": [
            "0... Complete\n",
            "(261, 512, 640, 1)\n",
            "1... Complete\n",
            "(522, 512, 640, 1)\n"
          ],
          "name": "stdout"
        }
      ]
    },
    {
      "cell_type": "code",
      "metadata": {
        "id": "beazlYyac4ev",
        "colab": {
          "base_uri": "https://localhost:8080/",
          "height": 35
        },
        "outputId": "044405cf-3b2f-45ee-f12e-7e590a36237f"
      },
      "source": [
        "for i, item in enumerate(X):\n",
        "    img = StandardScaler().fit_transform(item[:, :, 0])[:, :, None]\n",
        "    X[i] = img\n",
        "\n",
        "for i, item in enumerate(Xhelper):\n",
        "    img = StandardScaler().fit_transform(item[:, :, 0])[:, :, None]\n",
        "    Xhelper[i] = img\n",
        "X.shape"
      ],
      "execution_count": null,
      "outputs": [
        {
          "output_type": "execute_result",
          "data": {
            "text/plain": [
              "(522, 512, 640, 1)"
            ]
          },
          "metadata": {
            "tags": []
          },
          "execution_count": 5
        }
      ]
    },
    {
      "cell_type": "code",
      "metadata": {
        "id": "j7XDqIStwkPk",
        "colab": {
          "base_uri": "https://localhost:8080/",
          "height": 287
        },
        "outputId": "c083a0b8-d1ab-42d6-8607-8fd500620238"
      },
      "source": [
        "plt.imshow(X[20,:,:,0])"
      ],
      "execution_count": null,
      "outputs": [
        {
          "output_type": "execute_result",
          "data": {
            "text/plain": [
              "<matplotlib.image.AxesImage at 0x7f41f28b2f98>"
            ]
          },
          "metadata": {
            "tags": []
          },
          "execution_count": 11
        },
        {
          "output_type": "display_data",
          "data": {
            "image/png": "[encoded data removed]",
            "text/plain": [
              "<Figure size 432x288 with 1 Axes>"
            ]
          },
          "metadata": {
            "tags": [],
            "needs_background": "light"
          }
        }
      ]
    },
    {
      "cell_type": "markdown",
      "metadata": {
        "id": "x11iL7M3BPa_"
      },
      "source": [
        "### Создание модели"
      ]
    },
    {
      "cell_type": "code",
      "metadata": {
        "id": "pHOLkXJ-dNPw"
      },
      "source": [
        "def build_model():\n",
        "    image = tf.keras.layers.Input((H, W, 1))\n",
        "    image_out = Conv2D(32, (3, 3), padding='same', activation='relu')(image)\n",
        "    image_out = Conv2D(32, (3, 3), padding='same', activation='relu')(image_out)\n",
        "    image_out = MaxPool2D((2, 2))(image_out)\n",
        "    image_out = Conv2D(64, (3, 3), padding='same', activation='relu')(image_out)\n",
        "    image_out = Conv2D(64, (3, 3), padding='same', activation='relu')(image_out)\n",
        "    image_out = MaxPool2D((2, 2))(image_out)\n",
        "    image_out = Conv2D(128, (3, 3), padding='same', activation='relu')(image_out)\n",
        "    image_out = Conv2D(128, (3, 3), padding='same', activation='relu')(image_out)\n",
        "    image_out = MaxPool2D((2, 2))(image_out)\n",
        "    image_out = Conv2D(256, (3, 3), padding='same', activation='relu')(image_out)\n",
        "    image_out = Conv2D(256, (3, 3), padding='same', activation='relu')(image_out)\n",
        "    image_out = MaxPool2D((2, 2))(image_out)\n",
        "    image_out = Conv2D(512, (3, 3), padding='same', activation='relu')(image_out)\n",
        "    image_out = Conv2D(512, (3, 3), padding='same', activation='relu')(image_out)\n",
        "    image_out = MaxPool2D((2, 2))(image_out)\n",
        "    image_out = Conv2D(1024, (3, 3), padding='same', activation='relu')(image_out)\n",
        "\n",
        "    mask = tf.keras.layers.Input((H, W, 1))\n",
        "    mask_out = Conv2D(32, (3, 3), padding='same', activation='relu')(mask)\n",
        "    mask_out = Conv2D(32, (3, 3), padding='same', activation='relu')(mask_out)\n",
        "    mask_out = MaxPool2D((2, 2))(mask_out)\n",
        "    mask_out = Conv2D(64, (3, 3), padding='same', activation='relu')(mask_out)\n",
        "    mask_out = Conv2D(64, (3, 3), padding='same', activation='relu')(mask_out)\n",
        "    mask_out = MaxPool2D((2, 2))(mask_out)\n",
        "    mask_out = Conv2D(128, (3, 3), padding='same', activation='relu')(mask_out)\n",
        "    mask_out = Conv2D(128, (3, 3), padding='same', activation='relu')(mask_out)\n",
        "    mask_out = MaxPool2D((2, 2))(mask_out)\n",
        "    mask_out = Conv2D(256, (3, 3), padding='same', activation='relu')(mask_out)\n",
        "    mask_out = Conv2D(256, (3, 3), padding='same', activation='relu')(mask_out)\n",
        "    mask_out = MaxPool2D((2, 2))(mask_out)\n",
        "    mask_out = Conv2D(512, (3, 3), padding='same', activation='relu')(mask_out)\n",
        "    mask_out = Conv2D(512, (3, 3), padding='same', activation='relu')(mask_out)\n",
        "    mask_out = MaxPool2D((2, 2))(mask_out)\n",
        "    mask_out = Conv2D(1024, (3, 3), padding='same', activation='relu')(mask_out)\n",
        "\n",
        "    out = tf.concat([image_out, mask_out], axis=3)\n",
        "    out = Conv2D(512, (3, 3), padding='same', activation='relu')(out)\n",
        "\n",
        "    out = GlobalAveragePooling2D()(out)\n",
        "    out = Dense(256, activation = 'relu')(out)\n",
        "    out = Dropout(0.4)(out)\n",
        "    out = Dense(6, activation='softmax')(out)\n",
        "    return tf.keras.Model(inputs=[image, mask], outputs=out)\n",
        "\n",
        "model = build_model()"
      ],
      "execution_count": null,
      "outputs": []
    },
    {
      "cell_type": "code",
      "metadata": {
        "id": "1TaQGs2-j_2F"
      },
      "source": [
        "loss = tf.keras.losses.CategoricalCrossentropy()\n",
        "precision = tf.keras.metrics.Precision();\n",
        "recall = tf.keras.metrics.Recall();\n",
        "\n",
        "model.compile(optimizer='adam', loss=loss, metrics=[precision, recall, 'accuracy'])"
      ],
      "execution_count": null,
      "outputs": []
    },
    {
      "cell_type": "code",
      "metadata": {
        "id": "DSRT5D5ahBbD",
        "colab": {
          "base_uri": "https://localhost:8080/",
          "height": 752
        },
        "outputId": "0cfaafe4-93f3-4788-f6ba-317a3a8e5a40"
      },
      "source": [
        "hist = model.fit([X, Xhelper], y, batch_size=1,\n",
        "                 epochs=50,\n",
        "                 validation_split=0.2)"
      ],
      "execution_count": null,
      "outputs": [
        {
          "output_type": "stream",
          "text": [
            "Epoch 1/20\n",
            "417/417 [==============================] - 92s 221ms/step - loss: 1.6422 - precision: 0.5556 - recall: 0.0240 - accuracy: 0.3357 - val_loss: 1.6606 - val_precision: 0.0000e+00 - val_recall: 0.0000e+00 - val_accuracy: 0.3143\n",
            "Epoch 2/20\n",
            "417/417 [==============================] - 91s 219ms/step - loss: 1.6056 - precision: 0.0000e+00 - recall: 0.0000e+00 - accuracy: 0.3381 - val_loss: 1.6503 - val_precision: 0.0000e+00 - val_recall: 0.0000e+00 - val_accuracy: 0.3143\n",
            "Epoch 3/20\n",
            "417/417 [==============================] - 91s 219ms/step - loss: 1.5905 - precision: 0.3750 - recall: 0.0072 - accuracy: 0.3453 - val_loss: 1.6697 - val_precision: 0.0000e+00 - val_recall: 0.0000e+00 - val_accuracy: 0.3143\n",
            "Epoch 4/20\n",
            "417/417 [==============================] - 94s 226ms/step - loss: 1.5937 - precision: 0.3636 - recall: 0.0096 - accuracy: 0.3621 - val_loss: 1.6422 - val_precision: 0.0000e+00 - val_recall: 0.0000e+00 - val_accuracy: 0.3143\n",
            "Epoch 5/20\n",
            "417/417 [==============================] - 92s 220ms/step - loss: 1.5858 - precision: 0.5556 - recall: 0.0120 - accuracy: 0.3621 - val_loss: 1.6437 - val_precision: 0.0000e+00 - val_recall: 0.0000e+00 - val_accuracy: 0.3143\n",
            "Epoch 6/20\n",
            "417/417 [==============================] - 91s 219ms/step - loss: 1.5906 - precision: 0.0000e+00 - recall: 0.0000e+00 - accuracy: 0.3645 - val_loss: 1.6456 - val_precision: 0.0000e+00 - val_recall: 0.0000e+00 - val_accuracy: 0.3143\n",
            "Epoch 7/20\n",
            "417/417 [==============================] - 91s 219ms/step - loss: 1.5897 - precision: 0.0000e+00 - recall: 0.0000e+00 - accuracy: 0.3669 - val_loss: 1.6464 - val_precision: 0.0000e+00 - val_recall: 0.0000e+00 - val_accuracy: 0.3143\n",
            "Epoch 8/20\n",
            "417/417 [==============================] - 94s 226ms/step - loss: 1.5807 - precision: 0.0000e+00 - recall: 0.0000e+00 - accuracy: 0.3669 - val_loss: 1.6429 - val_precision: 0.0000e+00 - val_recall: 0.0000e+00 - val_accuracy: 0.3143\n",
            "Epoch 9/20\n",
            "417/417 [==============================] - 91s 219ms/step - loss: 1.5851 - precision: 0.0000e+00 - recall: 0.0000e+00 - accuracy: 0.3597 - val_loss: 1.6538 - val_precision: 0.0000e+00 - val_recall: 0.0000e+00 - val_accuracy: 0.3143\n",
            "Epoch 10/20\n",
            "417/417 [==============================] - 91s 219ms/step - loss: 1.5758 - precision: 0.0000e+00 - recall: 0.0000e+00 - accuracy: 0.3669 - val_loss: 1.6563 - val_precision: 0.0000e+00 - val_recall: 0.0000e+00 - val_accuracy: 0.3143\n",
            "Epoch 11/20\n",
            "417/417 [==============================] - 91s 218ms/step - loss: 1.5771 - precision: 0.0000e+00 - recall: 0.0000e+00 - accuracy: 0.3669 - val_loss: 1.6433 - val_precision: 0.0000e+00 - val_recall: 0.0000e+00 - val_accuracy: 0.3143\n",
            "Epoch 12/20\n",
            "417/417 [==============================] - 94s 226ms/step - loss: 1.5782 - precision: 0.0000e+00 - recall: 0.0000e+00 - accuracy: 0.3669 - val_loss: 1.6558 - val_precision: 0.0000e+00 - val_recall: 0.0000e+00 - val_accuracy: 0.3143\n",
            "Epoch 13/20\n",
            "417/417 [==============================] - 91s 219ms/step - loss: 1.5775 - precision: 0.0000e+00 - recall: 0.0000e+00 - accuracy: 0.3645 - val_loss: 1.6641 - val_precision: 0.0000e+00 - val_recall: 0.0000e+00 - val_accuracy: 0.3143\n",
            "Epoch 14/20\n",
            "417/417 [==============================] - 91s 219ms/step - loss: 1.5785 - precision: 0.0000e+00 - recall: 0.0000e+00 - accuracy: 0.3645 - val_loss: 1.6529 - val_precision: 0.0000e+00 - val_recall: 0.0000e+00 - val_accuracy: 0.3143\n",
            "Epoch 15/20\n",
            "417/417 [==============================] - 91s 219ms/step - loss: 1.5706 - precision: 0.0000e+00 - recall: 0.0000e+00 - accuracy: 0.3645 - val_loss: 1.6475 - val_precision: 0.0000e+00 - val_recall: 0.0000e+00 - val_accuracy: 0.3143\n",
            "Epoch 16/20\n",
            "417/417 [==============================] - 94s 226ms/step - loss: 1.5725 - precision: 0.0000e+00 - recall: 0.0000e+00 - accuracy: 0.3645 - val_loss: 1.6520 - val_precision: 0.0000e+00 - val_recall: 0.0000e+00 - val_accuracy: 0.3143\n",
            "Epoch 17/20\n",
            "417/417 [==============================] - 91s 219ms/step - loss: 1.5720 - precision: 1.0000 - recall: 0.0024 - accuracy: 0.3669 - val_loss: 1.6439 - val_precision: 0.0000e+00 - val_recall: 0.0000e+00 - val_accuracy: 0.3143\n",
            "Epoch 18/20\n",
            "417/417 [==============================] - 91s 219ms/step - loss: 1.5761 - precision: 0.0000e+00 - recall: 0.0000e+00 - accuracy: 0.3669 - val_loss: 1.6546 - val_precision: 0.0000e+00 - val_recall: 0.0000e+00 - val_accuracy: 0.3143\n",
            "Epoch 19/20\n",
            "417/417 [==============================] - 91s 219ms/step - loss: 1.5853 - precision: 0.0000e+00 - recall: 0.0000e+00 - accuracy: 0.3621 - val_loss: 1.6448 - val_precision: 0.0000e+00 - val_recall: 0.0000e+00 - val_accuracy: 0.3143\n",
            "Epoch 20/20\n",
            "417/417 [==============================] - 94s 226ms/step - loss: 1.5701 - precision: 0.0000e+00 - recall: 0.0000e+00 - accuracy: 0.3669 - val_loss: 1.6582 - val_precision: 0.0000e+00 - val_recall: 0.0000e+00 - val_accuracy: 0.3143\n"
          ],
          "name": "stdout"
        }
      ]
    },
    {
      "cell_type": "code",
      "metadata": {
        "id": "Kul1i___gyWm",
        "colab": {
          "base_uri": "https://localhost:8080/",
          "height": 515
        },
        "outputId": "8cf8ba14-befe-4685-aef1-3a8b81e267e0"
      },
      "source": [
        "plt.plot(hist.history['loss'], label='train_loss')\n",
        "plt.plot(hist.history['val_loss'], label='valid_loss')\n",
        "plt.legend()\n",
        "plt.show()\n",
        "plt.plot(hist.history['accuracy'], label='train_accuracy')\n",
        "plt.plot(hist.history['val_accuracy'], label='valid_accuracy')\n",
        "plt.legend()\n",
        "plt.show()"
      ],
      "execution_count": null,
      "outputs": [
        {
          "output_type": "display_data",
          "data": {
            "image/png": "[encoded data removed]",
            "text/plain": [
              "<Figure size 432x288 with 1 Axes>"
            ]
          },
          "metadata": {
            "tags": [],
            "needs_background": "light"
          }
        },
        {
          "output_type": "display_data",
          "data": {
            "image/png": "[encoded data removed]",
            "text/plain": [
              "<Figure size 432x288 with 1 Axes>"
            ]
          },
          "metadata": {
            "tags": [],
            "needs_background": "light"
          }
        }
      ]
    },
    {
      "cell_type": "code",
      "metadata": {
        "id": "QjCY6oiOCWpP"
      },
      "source": [
        "model.save('/content/model2.h5')"
      ],
      "execution_count": null,
      "outputs": []
    },
    {
      "cell_type": "code",
      "metadata": {
        "id": "enZohZN1QIGB"
      },
      "source": [
        "model = tf.keras.models.load_model('/content/drive/My Drive/best_model15.h5')"
      ],
      "execution_count": null,
      "outputs": []
    },
    {
      "cell_type": "code",
      "metadata": {
        "id": "URFb3Vq0eZbF",
        "colab": {
          "base_uri": "https://localhost:8080/",
          "height": 101
        },
        "outputId": "da38893c-6185-4ebb-ab95-b6e43c30ab4b"
      },
      "source": [
        "model.evaluate(X, y)"
      ],
      "execution_count": null,
      "outputs": [
        {
          "output_type": "stream",
          "text": [
            "25/25 [==============================] - 45s 2s/step - loss: 0.0040 - precision_1: 0.9443 - recall_1: 0.9664 - accuracy: 0.9983\n"
          ],
          "name": "stdout"
        },
        {
          "output_type": "execute_result",
          "data": {
            "text/plain": [
              "[0.00404011644423008,\n",
              " 0.9443245530128479,\n",
              " 0.9663853049278259,\n",
              " 0.9983441829681396]"
            ]
          },
          "metadata": {
            "tags": []
          },
          "execution_count": 9
        }
      ]
    },
    {
      "cell_type": "code",
      "metadata": {
        "id": "PQCi0pdfTxz5"
      },
      "source": [
        "model = tf.keras.models.load_model('/content/drive/My Drive/classific_model.h5')"
      ],
      "execution_count": null,
      "outputs": []
    },
    {
      "cell_type": "code",
      "metadata": {
        "id": "ee-LYYGnMbvA",
        "colab": {
          "base_uri": "https://localhost:8080/",
          "height": 50
        },
        "outputId": "e5909493-fc45-4d4f-f076-b27d1512543e"
      },
      "source": [
        "model.evaluate(X, y)"
      ],
      "execution_count": null,
      "outputs": [
        {
          "output_type": "stream",
          "text": [
            "17/17 [==============================] - 3s 197ms/step - loss: 0.1300 - accuracy: 0.9693\n"
          ],
          "name": "stdout"
        },
        {
          "output_type": "execute_result",
          "data": {
            "text/plain": [
              "[0.12995052337646484, 0.969348669052124]"
            ]
          },
          "metadata": {
            "tags": []
          },
          "execution_count": 22
        }
      ]
    },
    {
      "cell_type": "markdown",
      "metadata": {
        "id": "yCBsX7go81le"
      },
      "source": [
        "### Создание генератора для тестовой выборки"
      ]
    },
    {
      "cell_type": "code",
      "metadata": {
        "id": "FxPpnqk8EDCu"
      },
      "source": [
        "masks = tf.keras.models.load_model('/content/drive/My Drive/best_model15.h5')\n",
        "classific = tf.keras.models.load_model('/content/drive/My Drive/classific_model_99.h5')"
      ],
      "execution_count": null,
      "outputs": []
    },
    {
      "cell_type": "code",
      "metadata": {
        "id": "w7ggcVEl9AM0",
        "colab": {
          "base_uri": "https://localhost:8080/",
          "height": 34
        },
        "outputId": "2479daa1-b9c0-41e3-9352-9f188373f61d"
      },
      "source": [
        "X_gen = ImageDataGenerator(rescale = 1/255) \\\n",
        "  .flow_from_directory(directory = '/content/drive/My Drive/test',\n",
        "    class_mode='binary',\n",
        "    color_mode = 'grayscale',\n",
        "    batch_size = 107,\n",
        "    target_size=(H, W),\n",
        "    shuffle = False)"
      ],
      "execution_count": null,
      "outputs": [
        {
          "output_type": "stream",
          "text": [
            "Found 107 images belonging to 1 classes.\n"
          ],
          "name": "stdout"
        }
      ]
    },
    {
      "cell_type": "code",
      "metadata": {
        "id": "WRa9QFWA-HdJ"
      },
      "source": [
        "X = X_gen.next()[0][..., 0]\n",
        "for i, item in enumerate(X):\n",
        "    X[i] = StandardScaler().fit_transform(item)\n",
        "X = X[:, :, :, None]"
      ],
      "execution_count": null,
      "outputs": []
    },
    {
      "cell_type": "code",
      "metadata": {
        "id": "K6cuxtq_9Day"
      },
      "source": [
        "answers_masks = masks.predict(X)"
      ],
      "execution_count": null,
      "outputs": []
    },
    {
      "cell_type": "code",
      "metadata": {
        "id": "PVmPGfyRQQLB",
        "colab": {
          "base_uri": "https://localhost:8080/",
          "height": 269
        },
        "outputId": "1721d303-2fcc-49dc-b223-e3aeaf4037ff"
      },
      "source": [
        "_ = plt.imshow(answers_masks[1,...,0]>0.5, cmap = 'gray')"
      ],
      "execution_count": null,
      "outputs": [
        {
          "output_type": "display_data",
          "data": {
            "image/png": "[encoded data removed]",
            "text/plain": [
              "<Figure size 432x288 with 1 Axes>"
            ]
          },
          "metadata": {
            "tags": [],
            "needs_background": "light"
          }
        }
      ]
    },
    {
      "cell_type": "code",
      "metadata": {
        "id": "RmVoTPrX9Df_"
      },
      "source": [
        "answers_classes = classific.predict(X)"
      ],
      "execution_count": null,
      "outputs": []
    },
    {
      "cell_type": "code",
      "metadata": {
        "id": "YESREJZp9Don",
        "colab": {
          "base_uri": "https://localhost:8080/",
          "height": 67
        },
        "outputId": "145abd68-6ef6-4042-facf-214f19de3d3f"
      },
      "source": [
        "names = np.sort(os.listdir('/content/drive/My Drive/train_classific'))\n",
        "names"
      ],
      "execution_count": null,
      "outputs": [
        {
          "output_type": "execute_result",
          "data": {
            "text/plain": [
              "array(['c_kefir', 'ent_cloacae', 'klebsiella_pneumoniae',\n",
              "       'moraxella_catarrhalis', 'staphylococcus_aureus',\n",
              "       'staphylococcus_epidermidis'], dtype='<U26')"
            ]
          },
          "metadata": {
            "tags": []
          },
          "execution_count": 155
        }
      ]
    },
    {
      "cell_type": "code",
      "metadata": {
        "id": "F4gYVRxYDYdQ",
        "colab": {
          "base_uri": "https://localhost:8080/",
          "height": 34
        },
        "outputId": "40078b75-d0c9-4277-a617-31ea7a5ea1ff"
      },
      "source": [
        "picters = os.listdir('/content/drive/My Drive/test/test/')\n",
        "picters = np.sort(picters)\n",
        "picters[:5]"
      ],
      "execution_count": null,
      "outputs": [
        {
          "output_type": "execute_result",
          "data": {
            "text/plain": [
              "array(['001.png', '002.png', '003.png', '004.png', '005.png'], dtype='<U7')"
            ]
          },
          "metadata": {
            "tags": []
          },
          "execution_count": 156
        }
      ]
    },
    {
      "cell_type": "code",
      "metadata": {
        "id": "bujKHz4MBlzK"
      },
      "source": [
        "for ind, img in enumerate(answers_masks):\n",
        "    img = (img>0.5)+0\n",
        "    tf.keras.preprocessing.image.save_img(path='/content/drive/My Drive/test_mask/'+picters[ind],\n",
        "                                      x=img, data_format='channels_last',file_format = 'PNG', scale = True)"
      ],
      "execution_count": null,
      "outputs": []
    },
    {
      "cell_type": "code",
      "metadata": {
        "id": "K2l630_nOpxd",
        "colab": {
          "base_uri": "https://localhost:8080/",
          "height": 31
        },
        "outputId": "ff2c8cee-1a66-4020-be41-2ee6a9b136ce"
      },
      "source": [
        "data = pd.DataFrame()\n",
        "data"
      ],
      "execution_count": null,
      "outputs": [
        {
          "output_type": "execute_result",
          "data": {
            "text/html": [
              "<div>\n",
              "<style scoped>\n",
              "    .dataframe tbody tr th:only-of-type {\n",
              "        vertical-align: middle;\n",
              "    }\n",
              "\n",
              "    .dataframe tbody tr th {\n",
              "        vertical-align: top;\n",
              "    }\n",
              "\n",
              "    .dataframe thead th {\n",
              "        text-align: right;\n",
              "    }\n",
              "</style>\n",
              "<table border=\"1\" class=\"dataframe\">\n",
              "  <thead>\n",
              "    <tr style=\"text-align: right;\">\n",
              "      <th></th>\n",
              "    </tr>\n",
              "  </thead>\n",
              "  <tbody>\n",
              "  </tbody>\n",
              "</table>\n",
              "</div>"
            ],
            "text/plain": [
              "Empty DataFrame\n",
              "Columns: []\n",
              "Index: []"
            ]
          },
          "metadata": {
            "tags": []
          },
          "execution_count": 158
        }
      ]
    },
    {
      "cell_type": "code",
      "metadata": {
        "id": "o--ON8AvOuqc",
        "colab": {
          "base_uri": "https://localhost:8080/",
          "height": 402
        },
        "outputId": "17be231e-09d9-4315-a202-80c1a63dc149"
      },
      "source": [
        "data['id'] = picters\n",
        "data['id'] = data['id'].apply(lambda x:x[:3])\n",
        "data"
      ],
      "execution_count": null,
      "outputs": [
        {
          "output_type": "execute_result",
          "data": {
            "text/html": [
              "<div>\n",
              "<style scoped>\n",
              "    .dataframe tbody tr th:only-of-type {\n",
              "        vertical-align: middle;\n",
              "    }\n",
              "\n",
              "    .dataframe tbody tr th {\n",
              "        vertical-align: top;\n",
              "    }\n",
              "\n",
              "    .dataframe thead th {\n",
              "        text-align: right;\n",
              "    }\n",
              "</style>\n",
              "<table border=\"1\" class=\"dataframe\">\n",
              "  <thead>\n",
              "    <tr style=\"text-align: right;\">\n",
              "      <th></th>\n",
              "      <th>id</th>\n",
              "    </tr>\n",
              "  </thead>\n",
              "  <tbody>\n",
              "    <tr>\n",
              "      <th>0</th>\n",
              "      <td>001</td>\n",
              "    </tr>\n",
              "    <tr>\n",
              "      <th>1</th>\n",
              "      <td>002</td>\n",
              "    </tr>\n",
              "    <tr>\n",
              "      <th>2</th>\n",
              "      <td>003</td>\n",
              "    </tr>\n",
              "    <tr>\n",
              "      <th>3</th>\n",
              "      <td>004</td>\n",
              "    </tr>\n",
              "    <tr>\n",
              "      <th>4</th>\n",
              "      <td>005</td>\n",
              "    </tr>\n",
              "    <tr>\n",
              "      <th>...</th>\n",
              "      <td>...</td>\n",
              "    </tr>\n",
              "    <tr>\n",
              "      <th>102</th>\n",
              "      <td>103</td>\n",
              "    </tr>\n",
              "    <tr>\n",
              "      <th>103</th>\n",
              "      <td>104</td>\n",
              "    </tr>\n",
              "    <tr>\n",
              "      <th>104</th>\n",
              "      <td>105</td>\n",
              "    </tr>\n",
              "    <tr>\n",
              "      <th>105</th>\n",
              "      <td>106</td>\n",
              "    </tr>\n",
              "    <tr>\n",
              "      <th>106</th>\n",
              "      <td>107</td>\n",
              "    </tr>\n",
              "  </tbody>\n",
              "</table>\n",
              "<p>107 rows × 1 columns</p>\n",
              "</div>"
            ],
            "text/plain": [
              "      id\n",
              "0    001\n",
              "1    002\n",
              "2    003\n",
              "3    004\n",
              "4    005\n",
              "..   ...\n",
              "102  103\n",
              "103  104\n",
              "104  105\n",
              "105  106\n",
              "106  107\n",
              "\n",
              "[107 rows x 1 columns]"
            ]
          },
          "metadata": {
            "tags": []
          },
          "execution_count": 159
        }
      ]
    },
    {
      "cell_type": "code",
      "metadata": {
        "id": "mEH9FCDLRGTq",
        "colab": {
          "base_uri": "https://localhost:8080/",
          "height": 1000
        },
        "outputId": "67df9c0c-caa3-4af7-bebe-f6ede2c9c7c2"
      },
      "source": [
        "classes = []\n",
        "for i in answers_classes:\n",
        "  classes += [names[i.argmax()]]\n",
        "classes"
      ],
      "execution_count": null,
      "outputs": [
        {
          "output_type": "execute_result",
          "data": {
            "text/plain": [
              "['staphylococcus_epidermidis',\n",
              " 'staphylococcus_epidermidis',\n",
              " 'ent_cloacae',\n",
              " 'ent_cloacae',\n",
              " 'ent_cloacae',\n",
              " 'ent_cloacae',\n",
              " 'ent_cloacae',\n",
              " 'klebsiella_pneumoniae',\n",
              " 'klebsiella_pneumoniae',\n",
              " 'klebsiella_pneumoniae',\n",
              " 'klebsiella_pneumoniae',\n",
              " 'klebsiella_pneumoniae',\n",
              " 'klebsiella_pneumoniae',\n",
              " 'staphylococcus_aureus',\n",
              " 'moraxella_catarrhalis',\n",
              " 'staphylococcus_aureus',\n",
              " 'staphylococcus_epidermidis',\n",
              " 'staphylococcus_aureus',\n",
              " 'staphylococcus_aureus',\n",
              " 'staphylococcus_aureus',\n",
              " 'staphylococcus_aureus',\n",
              " 'staphylococcus_epidermidis',\n",
              " 'staphylococcus_epidermidis',\n",
              " 'staphylococcus_epidermidis',\n",
              " 'staphylococcus_epidermidis',\n",
              " 'staphylococcus_epidermidis',\n",
              " 'staphylococcus_epidermidis',\n",
              " 'staphylococcus_aureus',\n",
              " 'staphylococcus_epidermidis',\n",
              " 'moraxella_catarrhalis',\n",
              " 'moraxella_catarrhalis',\n",
              " 'moraxella_catarrhalis',\n",
              " 'moraxella_catarrhalis',\n",
              " 'moraxella_catarrhalis',\n",
              " 'klebsiella_pneumoniae',\n",
              " 'moraxella_catarrhalis',\n",
              " 'moraxella_catarrhalis',\n",
              " 'moraxella_catarrhalis',\n",
              " 'staphylococcus_epidermidis',\n",
              " 'moraxella_catarrhalis',\n",
              " 'staphylococcus_aureus',\n",
              " 'moraxella_catarrhalis',\n",
              " 'moraxella_catarrhalis',\n",
              " 'moraxella_catarrhalis',\n",
              " 'moraxella_catarrhalis',\n",
              " 'c_kefir',\n",
              " 'c_kefir',\n",
              " 'c_kefir',\n",
              " 'c_kefir',\n",
              " 'c_kefir',\n",
              " 'c_kefir',\n",
              " 'c_kefir',\n",
              " 'c_kefir',\n",
              " 'c_kefir',\n",
              " 'c_kefir',\n",
              " 'c_kefir',\n",
              " 'c_kefir',\n",
              " 'c_kefir',\n",
              " 'c_kefir',\n",
              " 'c_kefir',\n",
              " 'c_kefir',\n",
              " 'c_kefir',\n",
              " 'c_kefir',\n",
              " 'c_kefir',\n",
              " 'c_kefir',\n",
              " 'c_kefir',\n",
              " 'c_kefir',\n",
              " 'c_kefir',\n",
              " 'c_kefir',\n",
              " 'c_kefir',\n",
              " 'c_kefir',\n",
              " 'c_kefir',\n",
              " 'c_kefir',\n",
              " 'ent_cloacae',\n",
              " 'ent_cloacae',\n",
              " 'ent_cloacae',\n",
              " 'ent_cloacae',\n",
              " 'ent_cloacae',\n",
              " 'ent_cloacae',\n",
              " 'ent_cloacae',\n",
              " 'ent_cloacae',\n",
              " 'ent_cloacae',\n",
              " 'ent_cloacae',\n",
              " 'ent_cloacae',\n",
              " 'ent_cloacae',\n",
              " 'ent_cloacae',\n",
              " 'ent_cloacae',\n",
              " 'ent_cloacae',\n",
              " 'ent_cloacae',\n",
              " 'ent_cloacae',\n",
              " 'ent_cloacae',\n",
              " 'ent_cloacae',\n",
              " 'ent_cloacae',\n",
              " 'ent_cloacae',\n",
              " 'ent_cloacae',\n",
              " 'ent_cloacae',\n",
              " 'ent_cloacae',\n",
              " 'ent_cloacae',\n",
              " 'ent_cloacae',\n",
              " 'ent_cloacae',\n",
              " 'ent_cloacae',\n",
              " 'ent_cloacae',\n",
              " 'ent_cloacae',\n",
              " 'ent_cloacae',\n",
              " 'ent_cloacae',\n",
              " 'ent_cloacae',\n",
              " 'ent_cloacae']"
            ]
          },
          "metadata": {
            "tags": []
          },
          "execution_count": 160
        }
      ]
    },
    {
      "cell_type": "code",
      "metadata": {
        "id": "dlAFiDJ2TKU_",
        "colab": {
          "base_uri": "https://localhost:8080/",
          "height": 402
        },
        "outputId": "7593b4f4-bf0b-4be5-b867-3a15dd39ff51"
      },
      "source": [
        "data['class'] = classes\n",
        "data"
      ],
      "execution_count": null,
      "outputs": [
        {
          "output_type": "execute_result",
          "data": {
            "text/html": [
              "<div>\n",
              "<style scoped>\n",
              "    .dataframe tbody tr th:only-of-type {\n",
              "        vertical-align: middle;\n",
              "    }\n",
              "\n",
              "    .dataframe tbody tr th {\n",
              "        vertical-align: top;\n",
              "    }\n",
              "\n",
              "    .dataframe thead th {\n",
              "        text-align: right;\n",
              "    }\n",
              "</style>\n",
              "<table border=\"1\" class=\"dataframe\">\n",
              "  <thead>\n",
              "    <tr style=\"text-align: right;\">\n",
              "      <th></th>\n",
              "      <th>id</th>\n",
              "      <th>class</th>\n",
              "    </tr>\n",
              "  </thead>\n",
              "  <tbody>\n",
              "    <tr>\n",
              "      <th>0</th>\n",
              "      <td>001</td>\n",
              "      <td>staphylococcus_epidermidis</td>\n",
              "    </tr>\n",
              "    <tr>\n",
              "      <th>1</th>\n",
              "      <td>002</td>\n",
              "      <td>staphylococcus_epidermidis</td>\n",
              "    </tr>\n",
              "    <tr>\n",
              "      <th>2</th>\n",
              "      <td>003</td>\n",
              "      <td>ent_cloacae</td>\n",
              "    </tr>\n",
              "    <tr>\n",
              "      <th>3</th>\n",
              "      <td>004</td>\n",
              "      <td>ent_cloacae</td>\n",
              "    </tr>\n",
              "    <tr>\n",
              "      <th>4</th>\n",
              "      <td>005</td>\n",
              "      <td>ent_cloacae</td>\n",
              "    </tr>\n",
              "    <tr>\n",
              "      <th>...</th>\n",
              "      <td>...</td>\n",
              "      <td>...</td>\n",
              "    </tr>\n",
              "    <tr>\n",
              "      <th>102</th>\n",
              "      <td>103</td>\n",
              "      <td>ent_cloacae</td>\n",
              "    </tr>\n",
              "    <tr>\n",
              "      <th>103</th>\n",
              "      <td>104</td>\n",
              "      <td>ent_cloacae</td>\n",
              "    </tr>\n",
              "    <tr>\n",
              "      <th>104</th>\n",
              "      <td>105</td>\n",
              "      <td>ent_cloacae</td>\n",
              "    </tr>\n",
              "    <tr>\n",
              "      <th>105</th>\n",
              "      <td>106</td>\n",
              "      <td>ent_cloacae</td>\n",
              "    </tr>\n",
              "    <tr>\n",
              "      <th>106</th>\n",
              "      <td>107</td>\n",
              "      <td>ent_cloacae</td>\n",
              "    </tr>\n",
              "  </tbody>\n",
              "</table>\n",
              "<p>107 rows × 2 columns</p>\n",
              "</div>"
            ],
            "text/plain": [
              "      id                       class\n",
              "0    001  staphylococcus_epidermidis\n",
              "1    002  staphylococcus_epidermidis\n",
              "2    003                 ent_cloacae\n",
              "3    004                 ent_cloacae\n",
              "4    005                 ent_cloacae\n",
              "..   ...                         ...\n",
              "102  103                 ent_cloacae\n",
              "103  104                 ent_cloacae\n",
              "104  105                 ent_cloacae\n",
              "105  106                 ent_cloacae\n",
              "106  107                 ent_cloacae\n",
              "\n",
              "[107 rows x 2 columns]"
            ]
          },
          "metadata": {
            "tags": []
          },
          "execution_count": 161
        }
      ]
    },
    {
      "cell_type": "code",
      "metadata": {
        "id": "8d-lo3P2GUN3",
        "colab": {
          "base_uri": "https://localhost:8080/",
          "height": 225
        },
        "outputId": "790f1b6a-2c7b-4cad-90e9-ae0d15bb29e2"
      },
      "source": [
        "b64 = []\n",
        "for i in picters:\n",
        "    with open('/content/drive/My Drive/test_mask/'+i, 'rb') as picter:\n",
        "        b64 += [base64.b64encode(picter.read()).decode('utf-8')]\n",
        "data['base64 encoded PNG (mask)'] = b64\n",
        "data.head()"
      ],
      "execution_count": null,
      "outputs": [
        {
          "output_type": "execute_result",
          "data": {
            "text/html": [
              "<div>\n",
              "<style scoped>\n",
              "    .dataframe tbody tr th:only-of-type {\n",
              "        vertical-align: middle;\n",
              "    }\n",
              "\n",
              "    .dataframe tbody tr th {\n",
              "        vertical-align: top;\n",
              "    }\n",
              "\n",
              "    .dataframe thead th {\n",
              "        text-align: right;\n",
              "    }\n",
              "</style>\n",
              "<table border=\"1\" class=\"dataframe\">\n",
              "  <thead>\n",
              "    <tr style=\"text-align: right;\">\n",
              "      <th></th>\n",
              "      <th>class</th>\n",
              "      <th>base64 encoded PNG (mask)</th>\n",
              "    </tr>\n",
              "    <tr>\n",
              "      <th>id</th>\n",
              "      <th></th>\n",
              "      <th></th>\n",
              "    </tr>\n",
              "  </thead>\n",
              "  <tbody>\n",
              "    <tr>\n",
              "      <th>001</th>\n",
              "      <td>staphylococcus_epidermidis</td>\n",
              "      <td>iVBORw0KGgoAAAANSUhEUgAAAoAAAAIACAAAAAA3FoInAA...</td>\n",
              "    </tr>\n",
              "    <tr>\n",
              "      <th>002</th>\n",
              "      <td>staphylococcus_epidermidis</td>\n",
              "      <td>iVBORw0KGgoAAAANSUhEUgAAAoAAAAIACAAAAAA3FoInAA...</td>\n",
              "    </tr>\n",
              "    <tr>\n",
              "      <th>003</th>\n",
              "      <td>ent_cloacae</td>\n",
              "      <td>iVBORw0KGgoAAAANSUhEUgAAAoAAAAIACAAAAAA3FoInAA...</td>\n",
              "    </tr>\n",
              "    <tr>\n",
              "      <th>004</th>\n",
              "      <td>ent_cloacae</td>\n",
              "      <td>iVBORw0KGgoAAAANSUhEUgAAAoAAAAIACAAAAAA3FoInAA...</td>\n",
              "    </tr>\n",
              "    <tr>\n",
              "      <th>005</th>\n",
              "      <td>ent_cloacae</td>\n",
              "      <td>iVBORw0KGgoAAAANSUhEUgAAAoAAAAIACAAAAAA3FoInAA...</td>\n",
              "    </tr>\n",
              "  </tbody>\n",
              "</table>\n",
              "</div>"
            ],
            "text/plain": [
              "                          class                          base64 encoded PNG (mask)\n",
              "id                                                                                \n",
              "001  staphylococcus_epidermidis  iVBORw0KGgoAAAANSUhEUgAAAoAAAAIACAAAAAA3FoInAA...\n",
              "002  staphylococcus_epidermidis  iVBORw0KGgoAAAANSUhEUgAAAoAAAAIACAAAAAA3FoInAA...\n",
              "003                 ent_cloacae  iVBORw0KGgoAAAANSUhEUgAAAoAAAAIACAAAAAA3FoInAA...\n",
              "004                 ent_cloacae  iVBORw0KGgoAAAANSUhEUgAAAoAAAAIACAAAAAA3FoInAA...\n",
              "005                 ent_cloacae  iVBORw0KGgoAAAANSUhEUgAAAoAAAAIACAAAAAA3FoInAA..."
            ]
          },
          "metadata": {
            "tags": []
          },
          "execution_count": 165
        }
      ]
    },
    {
      "cell_type": "code",
      "metadata": {
        "id": "S0v1RMoqW3F5"
      },
      "source": [
        "data = data.set_index('id')"
      ],
      "execution_count": null,
      "outputs": []
    },
    {
      "cell_type": "code",
      "metadata": {
        "id": "GAZn0y-xA2A-"
      },
      "source": [
        "data.to_csv('/content/drive/My Drive/ITS_answer.csv')"
      ],
      "execution_count": null,
      "outputs": []
    }
  ]
}